{
 "cells": [
  {
   "cell_type": "markdown",
   "metadata": {},
   "source": [
    "# NLP Text Classification And Recommendation System "
   ]
  },
  {
   "cell_type": "code",
   "execution_count": 2,
   "metadata": {
    "ExecuteTime": {
     "end_time": "2020-04-14T15:20:48.029713Z",
     "start_time": "2020-04-14T15:20:48.020527Z"
    }
   },
   "outputs": [],
   "source": [
    "# import all necessary libraries\n",
    "import nltk\n",
    "import matplotlib.pyplot as plt\n",
    "import pandas as pd\n",
    "from sklearn.feature_extraction.text import CountVectorizer\n",
    "from sklearn.feature_extraction.text import TfidfVectorizer\n",
    "from sklearn.feature_extraction.text import TfidfTransformer\n",
    "from nltk.probability import FreqDist\n",
    "from nltk.corpus import stopwords\n",
    "from nltk.stem import PorterStemmer\n",
    "from nltk.stem import WordNetLemmatizer \n",
    "from nltk.tokenize import RegexpTokenizer\n",
    "from sklearn.metrics import confusion_matrix\n",
    "import seaborn as sns\n",
    "from sklearn.naive_bayes import MultinomialNB\n",
    "from sklearn import metrics\n",
    "from sklearn.model_selection import train_test_split\n",
    "from matplotlib import cm\n",
    "import numpy as np\n",
    "from wordcloud import WordCloud\n",
    "from sklearn.ensemble import RandomForestClassifier\n",
    "from sklearn.metrics import accuracy_score\n",
    "from sklearn.metrics import f1_score\n",
    "from sklearn.naive_bayes import MultinomialNB\n",
    "from nltk.stem import WordNetLemmatizer \n",
    "import string, re\n",
    "from gensim.utils import simple_preprocess\n",
    "import gensim\n",
    "from gensim import corpora,models\n",
    "from sklearn.metrics import pairwise_distances\n",
    "import pickle\n",
    "import spacy\n",
    "from tqdm import tqdm\n",
    "\n",
    "# show up to 300 results in both rows and columns \n",
    "pd.set_option('display.max_columns',300)\n",
    "pd.set_option('display.max_rows',300)"
   ]
  },
  {
   "cell_type": "markdown",
   "metadata": {},
   "source": [
    "## Preprocessing & Cleaning"
   ]
  },
  {
   "cell_type": "code",
   "execution_count": 17,
   "metadata": {
    "ExecuteTime": {
     "end_time": "2020-04-14T15:27:09.685840Z",
     "start_time": "2020-04-14T15:27:08.994201Z"
    }
   },
   "outputs": [],
   "source": [
    "# load the data\n",
    "df1=pd.read_csv('2019_EN_catalog_-_Jul_to_Sep.csv',encoding= 'unicode_escape')\n",
    "df2=pd.read_csv('2019_EN_catalog_-_Oct_to_Dec.csv',encoding= 'unicode_escape')"
   ]
  },
  {
   "cell_type": "code",
   "execution_count": 18,
   "metadata": {
    "ExecuteTime": {
     "end_time": "2020-04-14T15:27:10.891165Z",
     "start_time": "2020-04-14T15:27:10.853867Z"
    }
   },
   "outputs": [
    {
     "data": {
      "text/html": [
       "<div>\n",
       "<style scoped>\n",
       "    .dataframe tbody tr th:only-of-type {\n",
       "        vertical-align: middle;\n",
       "    }\n",
       "\n",
       "    .dataframe tbody tr th {\n",
       "        vertical-align: top;\n",
       "    }\n",
       "\n",
       "    .dataframe thead th {\n",
       "        text-align: right;\n",
       "    }\n",
       "</style>\n",
       "<table border=\"1\" class=\"dataframe\">\n",
       "  <thead>\n",
       "    <tr style=\"text-align: right;\">\n",
       "      <th></th>\n",
       "      <th>ID</th>\n",
       "      <th>Product Title</th>\n",
       "      <th>Product Author</th>\n",
       "      <th>Product Narrator</th>\n",
       "      <th>Product Publisher Name</th>\n",
       "      <th>Product Primary Category</th>\n",
       "      <th>Product Primary Sub Category</th>\n",
       "      <th>Product Long Description</th>\n",
       "    </tr>\n",
       "  </thead>\n",
       "  <tbody>\n",
       "    <tr>\n",
       "      <th>0</th>\n",
       "      <td>0</td>\n",
       "      <td>'The Loudest Voice': Wondering About THAT Open...</td>\n",
       "      <td>Joyce Chen</td>\n",
       "      <td>\"\"</td>\n",
       "      <td>Cosmopolitan</td>\n",
       "      <td>NaN</td>\n",
       "      <td>NaN</td>\n",
       "      <td>&lt;p&gt;This should help. &lt;/p&gt;</td>\n",
       "    </tr>\n",
       "    <tr>\n",
       "      <th>1</th>\n",
       "      <td>1</td>\n",
       "      <td>[Clone] A Coldness in the Blood: The New Dracu...</td>\n",
       "      <td>Fred Saberhagen</td>\n",
       "      <td>Robin Bloodworth</td>\n",
       "      <td>Audible Studios</td>\n",
       "      <td>Sci-Fi &amp; Fantasy</td>\n",
       "      <td>Fantasy: Paranormal</td>\n",
       "      <td>&lt;p&gt;The Bram Stoker Award-Winning saga continue...</td>\n",
       "    </tr>\n",
       "    <tr>\n",
       "      <th>2</th>\n",
       "      <td>2</td>\n",
       "      <td>[Clone] A Matter of Policy: An Amy Brewster My...</td>\n",
       "      <td>Sam Merwin Jr.</td>\n",
       "      <td>Janelle Bigham</td>\n",
       "      <td>Wordwooze Publishing</td>\n",
       "      <td>Mysteries &amp; Thrillers</td>\n",
       "      <td>Suspense</td>\n",
       "      <td>&lt;p&gt;&lt;i&gt;A Matter of Policy &lt;/i&gt;is an enthralling...</td>\n",
       "    </tr>\n",
       "    <tr>\n",
       "      <th>3</th>\n",
       "      <td>3</td>\n",
       "      <td>[Clone] Any Way the Wind Blows: A Novel (Unabr...</td>\n",
       "      <td>E. Lynn Harris</td>\n",
       "      <td>Dominic Hoffman, Bahni Turpin, Mirron Willis</td>\n",
       "      <td>Random House Audio</td>\n",
       "      <td>Fiction</td>\n",
       "      <td>Contemporary</td>\n",
       "      <td>&lt;p&gt;At the end of &lt;i&gt;Not a Day Goes By&lt;/i&gt;, the...</td>\n",
       "    </tr>\n",
       "    <tr>\n",
       "      <th>4</th>\n",
       "      <td>4</td>\n",
       "      <td>[Clone] Jack &amp; Jill (Unabridged)</td>\n",
       "      <td>James Patterson</td>\n",
       "      <td>Ron Butler, Maxwell Hamilton</td>\n",
       "      <td>Hachette Audio</td>\n",
       "      <td>Mysteries &amp; Thrillers</td>\n",
       "      <td>Psychological</td>\n",
       "      <td>&lt;p&gt;&lt;b&gt;Available as an unabridged audiobook for...</td>\n",
       "    </tr>\n",
       "  </tbody>\n",
       "</table>\n",
       "</div>"
      ],
      "text/plain": [
       "   ID                                      Product Title   Product Author  \\\n",
       "0   0  'The Loudest Voice': Wondering About THAT Open...       Joyce Chen   \n",
       "1   1  [Clone] A Coldness in the Blood: The New Dracu...  Fred Saberhagen   \n",
       "2   2  [Clone] A Matter of Policy: An Amy Brewster My...   Sam Merwin Jr.   \n",
       "3   3  [Clone] Any Way the Wind Blows: A Novel (Unabr...   E. Lynn Harris   \n",
       "4   4                   [Clone] Jack & Jill (Unabridged)  James Patterson   \n",
       "\n",
       "                               Product Narrator Product Publisher Name  \\\n",
       "0                                            \"\"           Cosmopolitan   \n",
       "1                              Robin Bloodworth        Audible Studios   \n",
       "2                                Janelle Bigham   Wordwooze Publishing   \n",
       "3  Dominic Hoffman, Bahni Turpin, Mirron Willis     Random House Audio   \n",
       "4                  Ron Butler, Maxwell Hamilton         Hachette Audio   \n",
       "\n",
       "  Product Primary Category Product Primary Sub Category  \\\n",
       "0                      NaN                          NaN   \n",
       "1         Sci-Fi & Fantasy          Fantasy: Paranormal   \n",
       "2    Mysteries & Thrillers                     Suspense   \n",
       "3                  Fiction                 Contemporary   \n",
       "4    Mysteries & Thrillers                Psychological   \n",
       "\n",
       "                            Product Long Description  \n",
       "0                          <p>This should help. </p>  \n",
       "1  <p>The Bram Stoker Award-Winning saga continue...  \n",
       "2  <p><i>A Matter of Policy </i>is an enthralling...  \n",
       "3  <p>At the end of <i>Not a Day Goes By</i>, the...  \n",
       "4  <p><b>Available as an unabridged audiobook for...  "
      ]
     },
     "execution_count": 18,
     "metadata": {},
     "output_type": "execute_result"
    }
   ],
   "source": [
    "# concat two dataframe together and reset index to ID\n",
    "df=pd.concat([df1,df2], axis=0).reset_index().rename(columns={'index': 'ID'})\n",
    "df.head()"
   ]
  },
  {
   "cell_type": "code",
   "execution_count": 19,
   "metadata": {
    "ExecuteTime": {
     "end_time": "2020-04-14T15:27:14.450321Z",
     "start_time": "2020-04-14T15:27:14.445961Z"
    }
   },
   "outputs": [
    {
     "data": {
      "text/plain": [
       "(41794, 8)"
      ]
     },
     "execution_count": 19,
     "metadata": {},
     "output_type": "execute_result"
    }
   ],
   "source": [
    "# check the original data shape\n",
    "df.shape"
   ]
  },
  {
   "cell_type": "code",
   "execution_count": 20,
   "metadata": {
    "ExecuteTime": {
     "end_time": "2020-04-14T15:27:15.425412Z",
     "start_time": "2020-04-14T15:27:15.403844Z"
    }
   },
   "outputs": [
    {
     "data": {
      "text/plain": [
       "ID                                 0\n",
       "Product Title                      0\n",
       "Product Author                     0\n",
       "Product Narrator                   0\n",
       "Product Publisher Name             0\n",
       "Product Primary Category        7087\n",
       "Product Primary Sub Category    7087\n",
       "Product Long Description        5396\n",
       "dtype: int64"
      ]
     },
     "execution_count": 20,
     "metadata": {},
     "output_type": "execute_result"
    }
   ],
   "source": [
    "# check if there is any missing value\n",
    "df.isna().sum()"
   ]
  },
  {
   "cell_type": "code",
   "execution_count": 21,
   "metadata": {
    "ExecuteTime": {
     "end_time": "2020-04-14T15:27:17.616189Z",
     "start_time": "2020-04-14T15:27:17.599392Z"
    }
   },
   "outputs": [],
   "source": [
    "# drop nan values in product long description\n",
    "df.dropna(subset = ['Product Long Description'], inplace = True)"
   ]
  },
  {
   "cell_type": "code",
   "execution_count": 22,
   "metadata": {
    "ExecuteTime": {
     "end_time": "2020-04-14T15:27:18.304306Z",
     "start_time": "2020-04-14T15:27:18.289193Z"
    }
   },
   "outputs": [],
   "source": [
    "# drop nan values in product primary category\n",
    "df.dropna(subset = ['Product Primary Category'], inplace = True)"
   ]
  },
  {
   "cell_type": "code",
   "execution_count": 23,
   "metadata": {
    "ExecuteTime": {
     "end_time": "2020-04-14T15:27:18.945527Z",
     "start_time": "2020-04-14T15:27:18.935947Z"
    }
   },
   "outputs": [],
   "source": [
    "# drop unnecessary columns\n",
    "df.drop(columns=[ 'Product Narrator', 'Product Publisher Name', 'Product Primary Sub Category'], inplace=True)"
   ]
  },
  {
   "cell_type": "code",
   "execution_count": 24,
   "metadata": {
    "ExecuteTime": {
     "end_time": "2020-04-14T15:27:20.337696Z",
     "start_time": "2020-04-14T15:27:20.302115Z"
    }
   },
   "outputs": [],
   "source": [
    "# remove unnecessary genres in product primary category\n",
    "df=df[(df['Product Primary Category'] != 'Parents & Family') & (df['Product Primary Category'] != 'Products') & (df['Product Primary Category'] != 'Professionals') & (df['Product Primary Category'] != 'Students') & (df['Product Primary Category'] != 'Merchandising ') & (df['Product Primary Category'] != 'Short Stories') & (df['Product Primary Category'] != 'VERIFICATION NODES1')& (df['Product Primary Category'] != 'Merchandising')]                                                                                                                                                                                    "
   ]
  },
  {
   "cell_type": "code",
   "execution_count": 25,
   "metadata": {
    "ExecuteTime": {
     "end_time": "2020-04-14T15:27:21.180762Z",
     "start_time": "2020-04-14T15:27:21.164047Z"
    },
    "scrolled": true
   },
   "outputs": [
    {
     "data": {
      "text/html": [
       "<div>\n",
       "<style scoped>\n",
       "    .dataframe tbody tr th:only-of-type {\n",
       "        vertical-align: middle;\n",
       "    }\n",
       "\n",
       "    .dataframe tbody tr th {\n",
       "        vertical-align: top;\n",
       "    }\n",
       "\n",
       "    .dataframe thead th {\n",
       "        text-align: right;\n",
       "    }\n",
       "</style>\n",
       "<table border=\"1\" class=\"dataframe\">\n",
       "  <thead>\n",
       "    <tr style=\"text-align: right;\">\n",
       "      <th></th>\n",
       "      <th>ID</th>\n",
       "      <th>Product Title</th>\n",
       "      <th>Product Author</th>\n",
       "      <th>Product Primary Category</th>\n",
       "      <th>Product Long Description</th>\n",
       "    </tr>\n",
       "  </thead>\n",
       "  <tbody>\n",
       "    <tr>\n",
       "      <th>1</th>\n",
       "      <td>1</td>\n",
       "      <td>[Clone] A Coldness in the Blood: The New Dracu...</td>\n",
       "      <td>Fred Saberhagen</td>\n",
       "      <td>Sci-Fi &amp; Fantasy</td>\n",
       "      <td>&lt;p&gt;The Bram Stoker Award-Winning saga continue...</td>\n",
       "    </tr>\n",
       "    <tr>\n",
       "      <th>2</th>\n",
       "      <td>2</td>\n",
       "      <td>[Clone] A Matter of Policy: An Amy Brewster My...</td>\n",
       "      <td>Sam Merwin Jr.</td>\n",
       "      <td>Mysteries &amp; Thrillers</td>\n",
       "      <td>&lt;p&gt;&lt;i&gt;A Matter of Policy &lt;/i&gt;is an enthralling...</td>\n",
       "    </tr>\n",
       "    <tr>\n",
       "      <th>3</th>\n",
       "      <td>3</td>\n",
       "      <td>[Clone] Any Way the Wind Blows: A Novel (Unabr...</td>\n",
       "      <td>E. Lynn Harris</td>\n",
       "      <td>Fiction</td>\n",
       "      <td>&lt;p&gt;At the end of &lt;i&gt;Not a Day Goes By&lt;/i&gt;, the...</td>\n",
       "    </tr>\n",
       "    <tr>\n",
       "      <th>4</th>\n",
       "      <td>4</td>\n",
       "      <td>[Clone] Jack &amp; Jill (Unabridged)</td>\n",
       "      <td>James Patterson</td>\n",
       "      <td>Mysteries &amp; Thrillers</td>\n",
       "      <td>&lt;p&gt;&lt;b&gt;Available as an unabridged audiobook for...</td>\n",
       "    </tr>\n",
       "    <tr>\n",
       "      <th>5</th>\n",
       "      <td>5</td>\n",
       "      <td>[Clone] The Book of Mormon (Unabridged)</td>\n",
       "      <td>Joseph Smith - translator</td>\n",
       "      <td>Religion &amp; Spirituality</td>\n",
       "      <td>&lt;p&gt;The Book of Mormon is a sacred text of the ...</td>\n",
       "    </tr>\n",
       "  </tbody>\n",
       "</table>\n",
       "</div>"
      ],
      "text/plain": [
       "   ID                                      Product Title  \\\n",
       "1   1  [Clone] A Coldness in the Blood: The New Dracu...   \n",
       "2   2  [Clone] A Matter of Policy: An Amy Brewster My...   \n",
       "3   3  [Clone] Any Way the Wind Blows: A Novel (Unabr...   \n",
       "4   4                   [Clone] Jack & Jill (Unabridged)   \n",
       "5   5            [Clone] The Book of Mormon (Unabridged)   \n",
       "\n",
       "              Product Author Product Primary Category  \\\n",
       "1            Fred Saberhagen         Sci-Fi & Fantasy   \n",
       "2             Sam Merwin Jr.    Mysteries & Thrillers   \n",
       "3             E. Lynn Harris                  Fiction   \n",
       "4            James Patterson    Mysteries & Thrillers   \n",
       "5  Joseph Smith - translator  Religion & Spirituality   \n",
       "\n",
       "                            Product Long Description  \n",
       "1  <p>The Bram Stoker Award-Winning saga continue...  \n",
       "2  <p><i>A Matter of Policy </i>is an enthralling...  \n",
       "3  <p>At the end of <i>Not a Day Goes By</i>, the...  \n",
       "4  <p><b>Available as an unabridged audiobook for...  \n",
       "5  <p>The Book of Mormon is a sacred text of the ...  "
      ]
     },
     "execution_count": 25,
     "metadata": {},
     "output_type": "execute_result"
    }
   ],
   "source": [
    "# check how the data looks like now\n",
    "df.head(5)"
   ]
  },
  {
   "cell_type": "code",
   "execution_count": 26,
   "metadata": {
    "ExecuteTime": {
     "end_time": "2020-04-14T15:27:24.973152Z",
     "start_time": "2020-04-14T15:27:24.968656Z"
    }
   },
   "outputs": [
    {
     "data": {
      "text/plain": [
       "(34702, 5)"
      ]
     },
     "execution_count": 26,
     "metadata": {},
     "output_type": "execute_result"
    }
   ],
   "source": [
    "# check the new shape\n",
    "df.shape"
   ]
  },
  {
   "cell_type": "code",
   "execution_count": 27,
   "metadata": {
    "ExecuteTime": {
     "end_time": "2020-04-14T15:27:26.554460Z",
     "start_time": "2020-04-14T15:27:26.501433Z"
    }
   },
   "outputs": [],
   "source": [
    "# sort book name alphabetically\n",
    "df.sort_values(\"Product Title\", inplace = True) "
   ]
  },
  {
   "cell_type": "code",
   "execution_count": 28,
   "metadata": {
    "ExecuteTime": {
     "end_time": "2020-04-14T15:27:27.587694Z",
     "start_time": "2020-04-14T15:27:27.560439Z"
    }
   },
   "outputs": [],
   "source": [
    "# remove duplicate books\n",
    "df.drop_duplicates(subset =\"Product Title\", keep = False, inplace = True) "
   ]
  },
  {
   "cell_type": "code",
   "execution_count": 31,
   "metadata": {
    "ExecuteTime": {
     "end_time": "2020-04-14T15:28:42.802505Z",
     "start_time": "2020-04-14T15:28:42.791240Z"
    }
   },
   "outputs": [
    {
     "data": {
      "text/html": [
       "<div>\n",
       "<style scoped>\n",
       "    .dataframe tbody tr th:only-of-type {\n",
       "        vertical-align: middle;\n",
       "    }\n",
       "\n",
       "    .dataframe tbody tr th {\n",
       "        vertical-align: top;\n",
       "    }\n",
       "\n",
       "    .dataframe thead th {\n",
       "        text-align: right;\n",
       "    }\n",
       "</style>\n",
       "<table border=\"1\" class=\"dataframe\">\n",
       "  <thead>\n",
       "    <tr style=\"text-align: right;\">\n",
       "      <th></th>\n",
       "      <th>ID</th>\n",
       "      <th>Product Title</th>\n",
       "      <th>Product Author</th>\n",
       "      <th>Product Primary Category</th>\n",
       "      <th>Product Long Description</th>\n",
       "    </tr>\n",
       "  </thead>\n",
       "  <tbody>\n",
       "    <tr>\n",
       "      <th>41303</th>\n",
       "      <td>18976</td>\n",
       "      <td># \"No Room in the Inn?\": The Fiery Trials of L...</td>\n",
       "      <td>Brad Wyrick</td>\n",
       "      <td>Religion &amp; Spirituality</td>\n",
       "      <td>&lt;p&gt;&lt;i&gt;# \"No Room in the Inn?\"&lt;/i&gt; will take us...</td>\n",
       "    </tr>\n",
       "    <tr>\n",
       "      <th>22327</th>\n",
       "      <td>0</td>\n",
       "      <td>#1 Lie (Unabridged)</td>\n",
       "      <td>T. Gephart</td>\n",
       "      <td>Romance</td>\n",
       "      <td>&lt;p&gt;Working in Hollywood meant Jessica Dawson w...</td>\n",
       "    </tr>\n",
       "    <tr>\n",
       "      <th>22328</th>\n",
       "      <td>1</td>\n",
       "      <td>#1 Love (Unabridged)</td>\n",
       "      <td>T. Gephart</td>\n",
       "      <td>Romance</td>\n",
       "      <td>&lt;p&gt;It was easy to fall in love with a Larsson ...</td>\n",
       "    </tr>\n",
       "    <tr>\n",
       "      <th>22329</th>\n",
       "      <td>2</td>\n",
       "      <td>#1 Muse (Unabridged)</td>\n",
       "      <td>T. Gephart</td>\n",
       "      <td>Romance</td>\n",
       "      <td>&lt;p&gt;Landing a writing gig in Hollywood was just...</td>\n",
       "    </tr>\n",
       "    <tr>\n",
       "      <th>33948</th>\n",
       "      <td>11621</td>\n",
       "      <td>#1 in Customer Service: The Complete Adventure...</td>\n",
       "      <td>Larry Correia</td>\n",
       "      <td>Sci-Fi &amp; Fantasy</td>\n",
       "      <td>&lt;p&gt;No alien menace is too menacing, no galacti...</td>\n",
       "    </tr>\n",
       "  </tbody>\n",
       "</table>\n",
       "</div>"
      ],
      "text/plain": [
       "          ID                                      Product Title  \\\n",
       "41303  18976  # \"No Room in the Inn?\": The Fiery Trials of L...   \n",
       "22327      0                                #1 Lie (Unabridged)   \n",
       "22328      1                               #1 Love (Unabridged)   \n",
       "22329      2                               #1 Muse (Unabridged)   \n",
       "33948  11621  #1 in Customer Service: The Complete Adventure...   \n",
       "\n",
       "      Product Author Product Primary Category  \\\n",
       "41303    Brad Wyrick  Religion & Spirituality   \n",
       "22327     T. Gephart                  Romance   \n",
       "22328     T. Gephart                  Romance   \n",
       "22329     T. Gephart                  Romance   \n",
       "33948  Larry Correia         Sci-Fi & Fantasy   \n",
       "\n",
       "                                Product Long Description  \n",
       "41303  <p><i># \"No Room in the Inn?\"</i> will take us...  \n",
       "22327  <p>Working in Hollywood meant Jessica Dawson w...  \n",
       "22328  <p>It was easy to fall in love with a Larsson ...  \n",
       "22329  <p>Landing a writing gig in Hollywood was just...  \n",
       "33948  <p>No alien menace is too menacing, no galacti...  "
      ]
     },
     "execution_count": 31,
     "metadata": {},
     "output_type": "execute_result"
    }
   ],
   "source": [
    "# check the new df\n",
    "df.head()"
   ]
  },
  {
   "cell_type": "code",
   "execution_count": 32,
   "metadata": {
    "ExecuteTime": {
     "end_time": "2020-04-14T15:28:50.581488Z",
     "start_time": "2020-04-14T15:28:50.577240Z"
    }
   },
   "outputs": [
    {
     "data": {
      "text/plain": [
       "(34330, 5)"
      ]
     },
     "execution_count": 32,
     "metadata": {},
     "output_type": "execute_result"
    }
   ],
   "source": [
    "# check the new shape\n",
    "df.shape"
   ]
  },
  {
   "cell_type": "code",
   "execution_count": 33,
   "metadata": {
    "ExecuteTime": {
     "end_time": "2020-04-14T15:29:17.474365Z",
     "start_time": "2020-04-14T15:29:17.454764Z"
    }
   },
   "outputs": [
    {
     "data": {
      "text/plain": [
       "ID                          0\n",
       "Product Title               0\n",
       "Product Author              0\n",
       "Product Primary Category    0\n",
       "Product Long Description    0\n",
       "dtype: int64"
      ]
     },
     "execution_count": 33,
     "metadata": {},
     "output_type": "execute_result"
    }
   ],
   "source": [
    "# check if there is still missing values\n",
    "df.isna().sum()"
   ]
  },
  {
   "cell_type": "code",
   "execution_count": 51,
   "metadata": {
    "ExecuteTime": {
     "end_time": "2020-04-14T19:31:47.835616Z",
     "start_time": "2020-04-14T19:31:47.832711Z"
    }
   },
   "outputs": [],
   "source": [
    "# set product long description to a short variable name\n",
    "data = df['Product Long Description']"
   ]
  },
  {
   "cell_type": "code",
   "execution_count": 36,
   "metadata": {
    "ExecuteTime": {
     "end_time": "2020-04-14T19:23:57.641153Z",
     "start_time": "2020-04-14T19:23:57.629595Z"
    }
   },
   "outputs": [],
   "source": [
    "# create a set of stop words list\n",
    "sw_list = stopwords.words('english')\n",
    "sw_list += list(string.punctuation)\n",
    "sw_list += [\"''\", '\"\"', '...', '``', '’', '“', '’', '”', '‘', '‘', '-', '–', '—','li','/li',\"n't\",\n",
    "            'p','/p','/i','b','/b',\"'s\",'br','>','<','i','/','A','\\x92','\\x92s','\\x92ll','.com','\\x97',\n",
    "           '\\x97s','\\x93','\\x94','']\n",
    "sw_set = set(sw_list)"
   ]
  },
  {
   "cell_type": "code",
   "execution_count": 37,
   "metadata": {
    "ExecuteTime": {
     "end_time": "2020-04-14T19:24:39.444093Z",
     "start_time": "2020-04-14T19:24:39.434597Z"
    }
   },
   "outputs": [],
   "source": [
    "# create a function to extract only nouns in nltk tokenize\n",
    "def noun_article(article):\n",
    "    nouns = nltk.word_tokenize(article)\n",
    "    tagged = nltk.pos_tag(nouns)\n",
    "    length = len(tagged) - 1\n",
    "    noun_only = list()\n",
    "    for i in range(0, length):\n",
    "        log = (tagged [i][1][0] == 'N')\n",
    "        if log == True:\n",
    "            noun_only.append(tagged [i][0])\n",
    "    stopwords_removed = [n.lower() for n in noun_only if n.lower() not in sw_set]\n",
    "    return stopwords_removed"
   ]
  },
  {
   "cell_type": "code",
   "execution_count": null,
   "metadata": {
    "ExecuteTime": {
     "end_time": "2020-04-13T17:26:28.090828Z",
     "start_time": "2020-04-13T17:19:53.392891Z"
    }
   },
   "outputs": [],
   "source": [
    "# applying the above functions to our data \n",
    "processed_data = list(map(noun_article, data))"
   ]
  },
  {
   "cell_type": "code",
   "execution_count": null,
   "metadata": {},
   "outputs": [],
   "source": [
    "# pickle the processed data\n",
    "file = open('processed_data.p', 'wb')\n",
    "pickle.dump(processed_data,file)\n",
    "file.close()"
   ]
  },
  {
   "cell_type": "code",
   "execution_count": 38,
   "metadata": {
    "ExecuteTime": {
     "end_time": "2020-04-14T19:25:43.303967Z",
     "start_time": "2020-04-14T19:25:42.470066Z"
    },
    "code_folding": [
     1
    ]
   },
   "outputs": [
    {
     "data": {
      "text/plain": [
       "[['room',\n",
       "  'inn',\n",
       "  'humanity',\n",
       "  'garden',\n",
       "  'eden',\n",
       "  'believers',\n",
       "  'crown-wearers',\n",
       "  'heaven',\n",
       "  'god\\x92s',\n",
       "  'word',\n",
       "  'trials',\n",
       "  'temptations',\n",
       "  'god',\n",
       "  'kingdom',\n",
       "  'reward',\n",
       "  'system.',\n",
       "  'trials',\n",
       "  'life',\n",
       "  'faith',\n",
       "  'character',\n",
       "  'goal',\n",
       "  'foremost',\n",
       "  'trials',\n",
       "  'way',\n",
       "  'god\\x92s',\n",
       "  'plan',\n",
       "  'purpose',\n",
       "  'lives',\n",
       "  'satan\\x92s',\n",
       "  'weapon',\n",
       "  'ignorance',\n",
       "  'god\\x92s',\n",
       "  'word',\n",
       "  'scriptural',\n",
       "  'truth',\n",
       "  'threshold',\n",
       "  'decision',\n",
       "  'life',\n",
       "  'promises',\n",
       "  'principles',\n",
       "  'provisions',\n",
       "  'will.',\n",
       "  'scripture',\n",
       "  'spirit',\n",
       "  'fellowship',\n",
       "  'suffering',\n",
       "  'image',\n",
       "  'power',\n",
       "  'resurrection',\n",
       "  'path',\n",
       "  'life',\n",
       "  'jesus',\n",
       "  'word',\n",
       "  'fact',\n",
       "  'word.',\n",
       "  'furthermore',\n",
       "  'room',\n",
       "  'inn',\n",
       "  'jesus',\n",
       "  'didn\\x92t',\n",
       "  'purpose',\n",
       "  'remember',\n",
       "  'innkeeper',\n",
       "  'heart',\n",
       "  'vacancy',\n",
       "  'sign.']]"
      ]
     },
     "execution_count": 38,
     "metadata": {},
     "output_type": "execute_result"
    }
   ],
   "source": [
    "# load pickled processed data\n",
    "file = open('processed_data.p', 'rb')\n",
    "processed_data = pickle.load(file)\n",
    "file.close()\n",
    "processed_data[:1]"
   ]
  },
  {
   "cell_type": "code",
   "execution_count": 39,
   "metadata": {
    "ExecuteTime": {
     "end_time": "2020-04-14T19:26:09.636144Z",
     "start_time": "2020-04-14T19:26:09.331187Z"
    },
    "scrolled": true
   },
   "outputs": [
    {
     "data": {
      "text/plain": [
       "87859"
      ]
     },
     "execution_count": 39,
     "metadata": {},
     "output_type": "execute_result"
    }
   ],
   "source": [
    "# check the total count of words in processed data\n",
    "total_vocab = set()\n",
    "for comment in processed_data:\n",
    "    total_vocab.update(comment)\n",
    "len(total_vocab)"
   ]
  },
  {
   "cell_type": "code",
   "execution_count": 48,
   "metadata": {
    "ExecuteTime": {
     "end_time": "2020-04-14T19:29:50.564535Z",
     "start_time": "2020-04-14T19:29:50.499221Z"
    }
   },
   "outputs": [
    {
     "data": {
      "text/plain": [
       "['room inn humanity garden eden believers crown-wearers heaven god\\x92s word trials temptations god kingdom reward system. trials life faith character goal foremost trials way god\\x92s plan purpose lives satan\\x92s weapon ignorance god\\x92s word scriptural truth threshold decision life promises principles provisions will. scripture spirit fellowship suffering image power resurrection path life jesus word fact word. furthermore room inn jesus didn\\x92t purpose remember innkeeper heart vacancy sign.']"
      ]
     },
     "execution_count": 48,
     "metadata": {},
     "output_type": "execute_result"
    }
   ],
   "source": [
    "# join strings in processed data to one long string\n",
    "new_processed_data = [' '.join(w) for w in processed_data]\n",
    "new_processed_data[:1]"
   ]
  },
  {
   "cell_type": "code",
   "execution_count": 92,
   "metadata": {
    "ExecuteTime": {
     "end_time": "2020-04-14T20:01:52.824513Z",
     "start_time": "2020-04-14T20:01:52.813726Z"
    }
   },
   "outputs": [],
   "source": [
    "# create a function to exclude all html format\n",
    "def article(text):\n",
    "    text = re.sub(r'\\<[\\w/]+\\>', '', text)\n",
    "    text = text.replace(\"</p>\",'')\n",
    "    text = text.replace(\"<p>\",'')\n",
    "    text = text.replace(\"</ul>\",'')\n",
    "    text = text.replace(\"<ul>\",'')\n",
    "    text = text.replace(\"</li>\",'')\n",
    "    text = text.replace(\"<li>\",'')\n",
    "    text = text.replace(\"</i>\",'')\n",
    "    text = text.replace(\"<i>\",'')\n",
    "    text = text.replace(\"</b>\",'')\n",
    "    text = text.replace(\"<b>\",'')\n",
    "    text = text.replace(\"</>\",'')\n",
    "    text = text.replace(\"\\'s\",'')\n",
    "    text = text.replace(\"\\'t\",'')\n",
    "    text = text.replace(\"\\'ll\",'')\n",
    "    text = text.replace(\"\\x92\",'')\n",
    "    text = text.replace(\"\\x92s\",'')\n",
    "    text = text.replace(\"\\x93\",'')\n",
    "    text = text.replace(\"\\x94\",'')\n",
    "    text = text.replace(\"\\x91\",'')\n",
    "    text = text.replace(\"\\x97\",'')\n",
    "    text = text.replace(\"\\x85\",'')\n",
    "    text = text.replace(\"\\xa0\",'')\n",
    "    text = text.replace(\"/ul\",'')\n",
    "    text = text.replace(\"(Unabridged)\",'')\n",
    "    text = text.replace(\"#\",'')\n",
    "    text = text.replace(\"[Clone]\",'')\n",
    "    return text"
   ]
  },
  {
   "cell_type": "code",
   "execution_count": 93,
   "metadata": {
    "ExecuteTime": {
     "end_time": "2020-04-14T20:01:58.585449Z",
     "start_time": "2020-04-14T20:01:57.619374Z"
    }
   },
   "outputs": [],
   "source": [
    "# apply the above function to both book title and book description\n",
    "new_title_list = list(map(article,df['Product Title']))\n",
    "new_discription_list = list(map(article,df['Product Long Description']))"
   ]
  },
  {
   "cell_type": "code",
   "execution_count": 94,
   "metadata": {
    "ExecuteTime": {
     "end_time": "2020-04-14T20:01:59.569829Z",
     "start_time": "2020-04-14T20:01:59.557971Z"
    }
   },
   "outputs": [],
   "source": [
    "# turn both title list and discription list to dataframe\n",
    "new_title = pd.DataFrame(new_title_list)\n",
    "new_diccription = pd.DataFrame(new_discription_list)"
   ]
  },
  {
   "cell_type": "code",
   "execution_count": 95,
   "metadata": {
    "ExecuteTime": {
     "end_time": "2020-04-14T20:02:00.962197Z",
     "start_time": "2020-04-14T20:02:00.950739Z"
    }
   },
   "outputs": [],
   "source": [
    "# replace both original product title and product long discription by new cleaned title and description\n",
    "df['Product Title'] = new_title\n",
    "df['Product Long Description'] = new_diccription"
   ]
  },
  {
   "cell_type": "code",
   "execution_count": 96,
   "metadata": {
    "ExecuteTime": {
     "end_time": "2020-04-14T20:02:02.716362Z",
     "start_time": "2020-04-14T20:02:02.704682Z"
    }
   },
   "outputs": [
    {
     "data": {
      "text/html": [
       "<div>\n",
       "<style scoped>\n",
       "    .dataframe tbody tr th:only-of-type {\n",
       "        vertical-align: middle;\n",
       "    }\n",
       "\n",
       "    .dataframe tbody tr th {\n",
       "        vertical-align: top;\n",
       "    }\n",
       "\n",
       "    .dataframe thead th {\n",
       "        text-align: right;\n",
       "    }\n",
       "</style>\n",
       "<table border=\"1\" class=\"dataframe\">\n",
       "  <thead>\n",
       "    <tr style=\"text-align: right;\">\n",
       "      <th></th>\n",
       "      <th>ID</th>\n",
       "      <th>Product Title</th>\n",
       "      <th>Product Author</th>\n",
       "      <th>Product Primary Category</th>\n",
       "      <th>Product Long Description</th>\n",
       "      <th>word_count</th>\n",
       "    </tr>\n",
       "  </thead>\n",
       "  <tbody>\n",
       "    <tr>\n",
       "      <th>0</th>\n",
       "      <td>18976</td>\n",
       "      <td>\"No Room in the Inn?\": The Fiery Trials of Li...</td>\n",
       "      <td>Brad Wyrick</td>\n",
       "      <td>Religion &amp; Spirituality</td>\n",
       "      <td>\"No Room in the Inn?\" will take us from human...</td>\n",
       "      <td>227</td>\n",
       "    </tr>\n",
       "    <tr>\n",
       "      <th>1</th>\n",
       "      <td>0</td>\n",
       "      <td>1 Lie</td>\n",
       "      <td>T. Gephart</td>\n",
       "      <td>Romance</td>\n",
       "      <td>Working in Hollywood meant Jessica Dawson was ...</td>\n",
       "      <td>240</td>\n",
       "    </tr>\n",
       "    <tr>\n",
       "      <th>2</th>\n",
       "      <td>1</td>\n",
       "      <td>1 Love</td>\n",
       "      <td>T. Gephart</td>\n",
       "      <td>Romance</td>\n",
       "      <td>It was easy to fall in love with a Larsson - s...</td>\n",
       "      <td>196</td>\n",
       "    </tr>\n",
       "    <tr>\n",
       "      <th>3</th>\n",
       "      <td>2</td>\n",
       "      <td>1 Muse</td>\n",
       "      <td>T. Gephart</td>\n",
       "      <td>Romance</td>\n",
       "      <td>Landing a writing gig in Hollywood was just as...</td>\n",
       "      <td>327</td>\n",
       "    </tr>\n",
       "    <tr>\n",
       "      <th>4</th>\n",
       "      <td>11621</td>\n",
       "      <td>1 in Customer Service: The Complete Adventures...</td>\n",
       "      <td>Larry Correia</td>\n",
       "      <td>Sci-Fi &amp; Fantasy</td>\n",
       "      <td>No alien menace is too menacing, no galactic r...</td>\n",
       "      <td>280</td>\n",
       "    </tr>\n",
       "  </tbody>\n",
       "</table>\n",
       "</div>"
      ],
      "text/plain": [
       "      ID                                      Product Title Product Author  \\\n",
       "0  18976   \"No Room in the Inn?\": The Fiery Trials of Li...    Brad Wyrick   \n",
       "1      0                                             1 Lie      T. Gephart   \n",
       "2      1                                            1 Love      T. Gephart   \n",
       "3      2                                            1 Muse      T. Gephart   \n",
       "4  11621  1 in Customer Service: The Complete Adventures...  Larry Correia   \n",
       "\n",
       "  Product Primary Category                           Product Long Description  \\\n",
       "0  Religion & Spirituality   \"No Room in the Inn?\" will take us from human...   \n",
       "1                  Romance  Working in Hollywood meant Jessica Dawson was ...   \n",
       "2                  Romance  It was easy to fall in love with a Larsson - s...   \n",
       "3                  Romance  Landing a writing gig in Hollywood was just as...   \n",
       "4         Sci-Fi & Fantasy  No alien menace is too menacing, no galactic r...   \n",
       "\n",
       "   word_count  \n",
       "0         227  \n",
       "1         240  \n",
       "2         196  \n",
       "3         327  \n",
       "4         280  "
      ]
     },
     "execution_count": 96,
     "metadata": {},
     "output_type": "execute_result"
    }
   ],
   "source": [
    "# check the final df\n",
    "df.head()"
   ]
  },
  {
   "cell_type": "code",
   "execution_count": 97,
   "metadata": {
    "ExecuteTime": {
     "end_time": "2020-04-14T20:02:05.520989Z",
     "start_time": "2020-04-14T20:02:05.298760Z"
    }
   },
   "outputs": [],
   "source": [
    "# pickle the final dataframe\n",
    "file = open('df.p', 'wb')\n",
    "pickle.dump(df,file)\n",
    "file.close()"
   ]
  },
  {
   "cell_type": "code",
   "execution_count": 98,
   "metadata": {
    "ExecuteTime": {
     "end_time": "2020-04-14T20:02:06.895669Z",
     "start_time": "2020-04-14T20:02:06.729413Z"
    }
   },
   "outputs": [
    {
     "data": {
      "text/html": [
       "<div>\n",
       "<style scoped>\n",
       "    .dataframe tbody tr th:only-of-type {\n",
       "        vertical-align: middle;\n",
       "    }\n",
       "\n",
       "    .dataframe tbody tr th {\n",
       "        vertical-align: top;\n",
       "    }\n",
       "\n",
       "    .dataframe thead th {\n",
       "        text-align: right;\n",
       "    }\n",
       "</style>\n",
       "<table border=\"1\" class=\"dataframe\">\n",
       "  <thead>\n",
       "    <tr style=\"text-align: right;\">\n",
       "      <th></th>\n",
       "      <th>ID</th>\n",
       "      <th>Product Title</th>\n",
       "      <th>Product Author</th>\n",
       "      <th>Product Primary Category</th>\n",
       "      <th>Product Long Description</th>\n",
       "      <th>word_count</th>\n",
       "    </tr>\n",
       "  </thead>\n",
       "  <tbody>\n",
       "    <tr>\n",
       "      <th>0</th>\n",
       "      <td>18976</td>\n",
       "      <td>\"No Room in the Inn?\": The Fiery Trials of Li...</td>\n",
       "      <td>Brad Wyrick</td>\n",
       "      <td>Religion &amp; Spirituality</td>\n",
       "      <td>\"No Room in the Inn?\" will take us from human...</td>\n",
       "      <td>227</td>\n",
       "    </tr>\n",
       "    <tr>\n",
       "      <th>1</th>\n",
       "      <td>0</td>\n",
       "      <td>1 Lie</td>\n",
       "      <td>T. Gephart</td>\n",
       "      <td>Romance</td>\n",
       "      <td>Working in Hollywood meant Jessica Dawson was ...</td>\n",
       "      <td>240</td>\n",
       "    </tr>\n",
       "    <tr>\n",
       "      <th>2</th>\n",
       "      <td>1</td>\n",
       "      <td>1 Love</td>\n",
       "      <td>T. Gephart</td>\n",
       "      <td>Romance</td>\n",
       "      <td>It was easy to fall in love with a Larsson - s...</td>\n",
       "      <td>196</td>\n",
       "    </tr>\n",
       "    <tr>\n",
       "      <th>3</th>\n",
       "      <td>2</td>\n",
       "      <td>1 Muse</td>\n",
       "      <td>T. Gephart</td>\n",
       "      <td>Romance</td>\n",
       "      <td>Landing a writing gig in Hollywood was just as...</td>\n",
       "      <td>327</td>\n",
       "    </tr>\n",
       "    <tr>\n",
       "      <th>4</th>\n",
       "      <td>11621</td>\n",
       "      <td>1 in Customer Service: The Complete Adventures...</td>\n",
       "      <td>Larry Correia</td>\n",
       "      <td>Sci-Fi &amp; Fantasy</td>\n",
       "      <td>No alien menace is too menacing, no galactic r...</td>\n",
       "      <td>280</td>\n",
       "    </tr>\n",
       "  </tbody>\n",
       "</table>\n",
       "</div>"
      ],
      "text/plain": [
       "      ID                                      Product Title Product Author  \\\n",
       "0  18976   \"No Room in the Inn?\": The Fiery Trials of Li...    Brad Wyrick   \n",
       "1      0                                             1 Lie      T. Gephart   \n",
       "2      1                                            1 Love      T. Gephart   \n",
       "3      2                                            1 Muse      T. Gephart   \n",
       "4  11621  1 in Customer Service: The Complete Adventures...  Larry Correia   \n",
       "\n",
       "  Product Primary Category                           Product Long Description  \\\n",
       "0  Religion & Spirituality   \"No Room in the Inn?\" will take us from human...   \n",
       "1                  Romance  Working in Hollywood meant Jessica Dawson was ...   \n",
       "2                  Romance  It was easy to fall in love with a Larsson - s...   \n",
       "3                  Romance  Landing a writing gig in Hollywood was just as...   \n",
       "4         Sci-Fi & Fantasy  No alien menace is too menacing, no galactic r...   \n",
       "\n",
       "   word_count  \n",
       "0         227  \n",
       "1         240  \n",
       "2         196  \n",
       "3         327  \n",
       "4         280  "
      ]
     },
     "execution_count": 98,
     "metadata": {},
     "output_type": "execute_result"
    }
   ],
   "source": [
    "# load pickled final dataframe\n",
    "file = open('df.p', 'rb')\n",
    "df = pickle.load(file)\n",
    "file.close()\n",
    "df.head()"
   ]
  },
  {
   "cell_type": "markdown",
   "metadata": {},
   "source": [
    "### lemmatization"
   ]
  },
  {
   "cell_type": "code",
   "execution_count": 99,
   "metadata": {
    "ExecuteTime": {
     "end_time": "2020-04-14T20:02:09.105408Z",
     "start_time": "2020-04-14T20:02:08.731076Z"
    }
   },
   "outputs": [],
   "source": [
    "# apply noun only function on processed data\n",
    "final_noun_list = list(map(article, new_processed_data))"
   ]
  },
  {
   "cell_type": "code",
   "execution_count": 100,
   "metadata": {
    "ExecuteTime": {
     "end_time": "2020-04-14T20:02:09.308362Z",
     "start_time": "2020-04-14T20:02:09.305419Z"
    }
   },
   "outputs": [],
   "source": [
    "# prepare to lemmatize\n",
    "lemmatizer = WordNetLemmatizer() "
   ]
  },
  {
   "cell_type": "code",
   "execution_count": 101,
   "metadata": {
    "ExecuteTime": {
     "end_time": "2020-04-14T20:02:19.447825Z",
     "start_time": "2020-04-14T20:02:11.038743Z"
    },
    "code_folding": []
   },
   "outputs": [],
   "source": [
    "# creating a list with all lemmatized outputs in final noun list\n",
    "lemmatized_output = []\n",
    "for listy in final_noun_list:\n",
    "    lemmed = ' '.join([lemmatizer.lemmatize(w) for w in listy.split()])\n",
    "    lemmatized_output.append(lemmed)"
   ]
  },
  {
   "cell_type": "code",
   "execution_count": 102,
   "metadata": {
    "ExecuteTime": {
     "end_time": "2020-04-14T20:02:20.229692Z",
     "start_time": "2020-04-14T20:02:20.220342Z"
    }
   },
   "outputs": [],
   "source": [
    "# set the lemmatized outputs to a variable name \n",
    "final_noun_list_lemmatizd = lemmatized_output"
   ]
  },
  {
   "cell_type": "code",
   "execution_count": 103,
   "metadata": {
    "ExecuteTime": {
     "end_time": "2020-04-14T20:02:21.349266Z",
     "start_time": "2020-04-14T20:02:21.307482Z"
    }
   },
   "outputs": [],
   "source": [
    "# pickle the lemmatized outputs\n",
    "file = open('final_noun_list_lemmatizd.p', 'wb')\n",
    "pickle.dump(final_noun_list_lemmatizd,file)\n",
    "file.close()"
   ]
  },
  {
   "cell_type": "code",
   "execution_count": 104,
   "metadata": {
    "ExecuteTime": {
     "end_time": "2020-04-14T20:02:22.893253Z",
     "start_time": "2020-04-14T20:02:22.856093Z"
    }
   },
   "outputs": [
    {
     "data": {
      "text/plain": [
       "['room inn humanity garden eden believer crown-wearers heaven god word trial temptation god kingdom reward system. trial life faith character goal foremost trial way god plan purpose life satan weapon ignorance god word scriptural truth threshold decision life promise principle provision will. scripture spirit fellowship suffering image power resurrection path life jesus word fact word. furthermore room inn jesus didnt purpose remember innkeeper heart vacancy sign.']"
      ]
     },
     "execution_count": 104,
     "metadata": {},
     "output_type": "execute_result"
    }
   ],
   "source": [
    "# load pickled lemmatized outputs\n",
    "file = open('final_noun_list_lemmatizd.p', 'rb')\n",
    "final_noun_list_lemmatizd = pickle.load(file)\n",
    "file.close()\n",
    "final_noun_list_lemmatizd[:1]"
   ]
  },
  {
   "cell_type": "markdown",
   "metadata": {},
   "source": [
    "## EDA"
   ]
  },
  {
   "cell_type": "code",
   "execution_count": 105,
   "metadata": {
    "ExecuteTime": {
     "end_time": "2020-04-14T20:02:24.787075Z",
     "start_time": "2020-04-14T20:02:24.783516Z"
    }
   },
   "outputs": [],
   "source": [
    "# set product primary category values to a short variable name \n",
    "labels = df['Product Primary Category'].values"
   ]
  },
  {
   "cell_type": "code",
   "execution_count": 106,
   "metadata": {
    "ExecuteTime": {
     "end_time": "2020-04-14T20:02:25.473886Z",
     "start_time": "2020-04-14T20:02:25.461466Z"
    }
   },
   "outputs": [
    {
     "data": {
      "text/plain": [
       "Self Development           4782\n",
       "Romance                    4501\n",
       "Newspapers & Magazines     3290\n",
       "Mysteries & Thrillers      2693\n",
       "Sci-Fi & Fantasy           2604\n",
       "Fiction                    1950\n",
       "Teens                      1785\n",
       "Religion & Spirituality    1509\n",
       "Science & Technology       1409\n",
       "Business                   1380\n",
       "Kids                       1213\n",
       "Nonfiction                 1117\n",
       "Erotica & Sexuality         961\n",
       "Bios & Memoirs              954\n",
       "History                     902\n",
       "Health & Fitness            752\n",
       "Sports                      527\n",
       "Arts & Entertainment        411\n",
       "Nostalgia Radio             338\n",
       "Classics                    337\n",
       "Language Instruction        224\n",
       "Drama & Poetry              204\n",
       "Travel & Adventure          163\n",
       "Comedy                      121\n",
       "Radio & TV                  109\n",
       "Live Events                  61\n",
       "Kids & Young Adults          33\n",
       "Name: Product Primary Category, dtype: int64"
      ]
     },
     "execution_count": 106,
     "metadata": {},
     "output_type": "execute_result"
    }
   ],
   "source": [
    "# check the sorted value counts in product primary category\n",
    "df['Product Primary Category'].value_counts().sort_values(ascending=False)"
   ]
  },
  {
   "cell_type": "code",
   "execution_count": 107,
   "metadata": {
    "ExecuteTime": {
     "end_time": "2020-04-14T20:02:27.577705Z",
     "start_time": "2020-04-14T20:02:27.107057Z"
    }
   },
   "outputs": [
    {
     "data": {
      "text/plain": [
       "Text(0.5, 1.0, 'Distribution Of Genres')"
      ]
     },
     "execution_count": 107,
     "metadata": {},
     "output_type": "execute_result"
    },
    {
     "data": {
      "image/png": "[encoded data removed]",
      "text/plain": [
       "<Figure size 1080x576 with 1 Axes>"
      ]
     },
     "metadata": {
      "needs_background": "light"
     },
     "output_type": "display_data"
    }
   ],
   "source": [
    "# plot distribution of genres in descending\n",
    "plt.figure(figsize = (15,8))\n",
    "g=sns.countplot(x =labels, palette=\"Greens_r\",order = df['Product Primary Category'].value_counts().index)\n",
    "g.set(xticklabels=['Self Development', 'Romance', 'Newspapers & Magazines','Mysteries & Thrillers','Sci-Fi & Fantasy','Fiction','Teens','Religion & Spirituality','Science & Technology','Business','Kids','Nonfiction','Erotica & Sexuality','Bios & Memoirs','History','Health & Fitness','Sports','Arts & Entertainment','Nostalgia Radio','Classics','Language Instruction','Drama & Poetry','Travel & Adventure','Comedy','Radio & TV','Live Events','Kids & Young Adults'])\n",
    "plt.xticks(rotation=90)\n",
    "plt.xlabel('Genre',fontsize=18)\n",
    "plt.ylabel('Count',fontsize=18)\n",
    "plt.title('Distribution Of Genres', fontsize=24)"
   ]
  },
  {
   "cell_type": "code",
   "execution_count": 108,
   "metadata": {
    "ExecuteTime": {
     "end_time": "2020-04-14T20:02:28.753206Z",
     "start_time": "2020-04-14T20:02:28.280909Z"
    }
   },
   "outputs": [
    {
     "name": "stdout",
     "output_type": "stream",
     "text": [
      "mean: 157.47838625109233\n",
      "25 quantile: 85.0\n",
      "75 quantile: 225.0\n"
     ]
    }
   ],
   "source": [
    "# calculate word counts in product long description\n",
    "word_count = df['Product Long Description'].apply(lambda x:len(x.split()))\n",
    "print('mean:', word_count.mean())\n",
    "print('25 quantile:', word_count.quantile(0.25))\n",
    "print('75 quantile:', word_count.quantile(0.75))"
   ]
  },
  {
   "cell_type": "code",
   "execution_count": 109,
   "metadata": {
    "ExecuteTime": {
     "end_time": "2020-04-14T20:02:29.905394Z",
     "start_time": "2020-04-14T20:02:29.754801Z"
    }
   },
   "outputs": [
    {
     "data": {
      "text/plain": [
       "Text(0.5, 1.0, 'Average word count in book discription ')"
      ]
     },
     "execution_count": 109,
     "metadata": {},
     "output_type": "execute_result"
    },
    {
     "data": {
      "image/png": "[encoded data removed]",
      "text/plain": [
       "<Figure size 432x288 with 1 Axes>"
      ]
     },
     "metadata": {
      "needs_background": "light"
     },
     "output_type": "display_data"
    }
   ],
   "source": [
    "# plot the above numbers\n",
    "sns.boxplot(y=word_count, showfliers=False)\n",
    "plt.title('Average word count in book discription ')"
   ]
  },
  {
   "cell_type": "code",
   "execution_count": 110,
   "metadata": {
    "ExecuteTime": {
     "end_time": "2020-04-14T20:02:30.676127Z",
     "start_time": "2020-04-14T20:02:30.663950Z"
    }
   },
   "outputs": [
    {
     "data": {
      "text/html": [
       "<div>\n",
       "<style scoped>\n",
       "    .dataframe tbody tr th:only-of-type {\n",
       "        vertical-align: middle;\n",
       "    }\n",
       "\n",
       "    .dataframe tbody tr th {\n",
       "        vertical-align: top;\n",
       "    }\n",
       "\n",
       "    .dataframe thead th {\n",
       "        text-align: right;\n",
       "    }\n",
       "</style>\n",
       "<table border=\"1\" class=\"dataframe\">\n",
       "  <thead>\n",
       "    <tr style=\"text-align: right;\">\n",
       "      <th></th>\n",
       "      <th>ID</th>\n",
       "      <th>Product Title</th>\n",
       "      <th>Product Author</th>\n",
       "      <th>Product Primary Category</th>\n",
       "      <th>Product Long Description</th>\n",
       "      <th>word_count</th>\n",
       "    </tr>\n",
       "  </thead>\n",
       "  <tbody>\n",
       "    <tr>\n",
       "      <th>0</th>\n",
       "      <td>18976</td>\n",
       "      <td>\"No Room in the Inn?\": The Fiery Trials of Li...</td>\n",
       "      <td>Brad Wyrick</td>\n",
       "      <td>Religion &amp; Spirituality</td>\n",
       "      <td>\"No Room in the Inn?\" will take us from human...</td>\n",
       "      <td>227</td>\n",
       "    </tr>\n",
       "    <tr>\n",
       "      <th>1</th>\n",
       "      <td>0</td>\n",
       "      <td>1 Lie</td>\n",
       "      <td>T. Gephart</td>\n",
       "      <td>Romance</td>\n",
       "      <td>Working in Hollywood meant Jessica Dawson was ...</td>\n",
       "      <td>233</td>\n",
       "    </tr>\n",
       "    <tr>\n",
       "      <th>2</th>\n",
       "      <td>1</td>\n",
       "      <td>1 Love</td>\n",
       "      <td>T. Gephart</td>\n",
       "      <td>Romance</td>\n",
       "      <td>It was easy to fall in love with a Larsson - s...</td>\n",
       "      <td>196</td>\n",
       "    </tr>\n",
       "    <tr>\n",
       "      <th>3</th>\n",
       "      <td>2</td>\n",
       "      <td>1 Muse</td>\n",
       "      <td>T. Gephart</td>\n",
       "      <td>Romance</td>\n",
       "      <td>Landing a writing gig in Hollywood was just as...</td>\n",
       "      <td>318</td>\n",
       "    </tr>\n",
       "    <tr>\n",
       "      <th>4</th>\n",
       "      <td>11621</td>\n",
       "      <td>1 in Customer Service: The Complete Adventures...</td>\n",
       "      <td>Larry Correia</td>\n",
       "      <td>Sci-Fi &amp; Fantasy</td>\n",
       "      <td>No alien menace is too menacing, no galactic r...</td>\n",
       "      <td>279</td>\n",
       "    </tr>\n",
       "  </tbody>\n",
       "</table>\n",
       "</div>"
      ],
      "text/plain": [
       "      ID                                      Product Title Product Author  \\\n",
       "0  18976   \"No Room in the Inn?\": The Fiery Trials of Li...    Brad Wyrick   \n",
       "1      0                                             1 Lie      T. Gephart   \n",
       "2      1                                            1 Love      T. Gephart   \n",
       "3      2                                            1 Muse      T. Gephart   \n",
       "4  11621  1 in Customer Service: The Complete Adventures...  Larry Correia   \n",
       "\n",
       "  Product Primary Category                           Product Long Description  \\\n",
       "0  Religion & Spirituality   \"No Room in the Inn?\" will take us from human...   \n",
       "1                  Romance  Working in Hollywood meant Jessica Dawson was ...   \n",
       "2                  Romance  It was easy to fall in love with a Larsson - s...   \n",
       "3                  Romance  Landing a writing gig in Hollywood was just as...   \n",
       "4         Sci-Fi & Fantasy  No alien menace is too menacing, no galactic r...   \n",
       "\n",
       "   word_count  \n",
       "0         227  \n",
       "1         233  \n",
       "2         196  \n",
       "3         318  \n",
       "4         279  "
      ]
     },
     "execution_count": 110,
     "metadata": {},
     "output_type": "execute_result"
    }
   ],
   "source": [
    "# create new word count column in df\n",
    "df['word_count'] = word_count\n",
    "df.head()"
   ]
  },
  {
   "cell_type": "code",
   "execution_count": 111,
   "metadata": {
    "ExecuteTime": {
     "end_time": "2020-04-14T20:02:35.415748Z",
     "start_time": "2020-04-14T20:02:34.666295Z"
    }
   },
   "outputs": [
    {
     "data": {
      "text/plain": [
       "Text(0, 0.5, 'word count')"
      ]
     },
     "execution_count": 111,
     "metadata": {},
     "output_type": "execute_result"
    },
    {
     "data": {
      "image/png": "[encoded data removed]",
      "text/plain": [
       "<Figure size 1080x576 with 1 Axes>"
      ]
     },
     "metadata": {
      "needs_background": "light"
     },
     "output_type": "display_data"
    }
   ],
   "source": [
    "# group average word count by genre and visualize it in descending\n",
    "a=df.groupby(['Product Primary Category'])['word_count'].mean()\n",
    "ax = pd.DataFrame(a.sort_values(ascending=False)).plot(kind='bar',figsize =(15,8),use_index=bool,title='Average Description Word Count By Genre')\n",
    "ax.set_xlabel('genre')\n",
    "ax.set_ylabel('word count')"
   ]
  },
  {
   "cell_type": "code",
   "execution_count": null,
   "metadata": {
    "ExecuteTime": {
     "end_time": "2020-04-14T20:02:35.512920Z",
     "start_time": "2020-04-14T20:02:35.027Z"
    }
   },
   "outputs": [],
   "source": [
    "# make the above graph to a dataframe \n",
    "pd.DataFrame(a.sort_values(ascending=False)).head()"
   ]
  },
  {
   "cell_type": "code",
   "execution_count": 112,
   "metadata": {
    "ExecuteTime": {
     "end_time": "2020-04-14T20:02:36.206192Z",
     "start_time": "2020-04-14T20:02:36.199533Z"
    }
   },
   "outputs": [],
   "source": [
    "# randomly select 1000 observations in df\n",
    "eda = df.sample(n=1000, replace=False, random_state=10)"
   ]
  },
  {
   "cell_type": "code",
   "execution_count": 122,
   "metadata": {
    "ExecuteTime": {
     "end_time": "2020-04-14T20:16:31.772169Z",
     "start_time": "2020-04-14T20:16:31.357894Z"
    }
   },
   "outputs": [
    {
     "data": {
      "text/plain": [
       "'Do you want to learn about dialysis recipes?'"
      ]
     },
     "execution_count": 122,
     "metadata": {},
     "output_type": "execute_result"
    }
   ],
   "source": [
    "# join strings in smapledf product long description to one long string\n",
    "total_description=[]\n",
    "for i in eda['Product Long Description']:\n",
    "    total_description.append(i)\n",
    "    list_to_str = ' '.join([str(elem) for elem in total_description])\n",
    "list_to_str[:44]                   "
   ]
  },
  {
   "cell_type": "code",
   "execution_count": 123,
   "metadata": {
    "ExecuteTime": {
     "end_time": "2020-04-14T20:16:52.138341Z",
     "start_time": "2020-04-14T20:16:52.055246Z"
    }
   },
   "outputs": [],
   "source": [
    "# tokenize the above string\n",
    "tokenizer = RegexpTokenizer(r'[a-zA-Z0-9]+')\n",
    "tokenized_review = tokenizer.tokenize(list_to_str)"
   ]
  },
  {
   "cell_type": "code",
   "execution_count": 130,
   "metadata": {
    "ExecuteTime": {
     "end_time": "2020-04-14T20:20:17.558909Z",
     "start_time": "2020-04-14T20:20:17.102075Z"
    }
   },
   "outputs": [
    {
     "data": {
      "image/png": "[encoded data removed]",
      "text/plain": [
       "<Figure size 720x720 with 1 Axes>"
      ]
     },
     "metadata": {
      "needs_background": "light"
     },
     "output_type": "display_data"
    }
   ],
   "source": [
    "# plot the 30 most frequent words in sampledf product long description\n",
    "fdist = FreqDist(tokenized_review)\n",
    "plt.figure(figsize=(10,10))\n",
    "plt.title('Most Frequent Words in 1000 Samples (Original)')\n",
    "fdist.plot(30)"
   ]
  },
  {
   "cell_type": "code",
   "execution_count": 125,
   "metadata": {
    "ExecuteTime": {
     "end_time": "2020-04-14T20:18:53.830680Z",
     "start_time": "2020-04-14T20:18:43.927121Z"
    }
   },
   "outputs": [],
   "source": [
    "# apply noun only function on sampledf product long description\n",
    "noun_list = noun_article(list_to_str)"
   ]
  },
  {
   "cell_type": "code",
   "execution_count": 126,
   "metadata": {
    "ExecuteTime": {
     "end_time": "2020-04-14T20:19:23.264262Z",
     "start_time": "2020-04-14T20:19:23.249402Z"
    }
   },
   "outputs": [
    {
     "data": {
      "text/plain": [
       "'dialysis recipes '"
      ]
     },
     "execution_count": 126,
     "metadata": {},
     "output_type": "execute_result"
    }
   ],
   "source": [
    "# join strings in above list to one long string\n",
    "list_to_str2 = ' '.join([str(elem) for elem in noun_list])\n",
    "list_to_str2[:17]"
   ]
  },
  {
   "cell_type": "code",
   "execution_count": 127,
   "metadata": {
    "ExecuteTime": {
     "end_time": "2020-04-14T20:19:35.285114Z",
     "start_time": "2020-04-14T20:19:35.266012Z"
    }
   },
   "outputs": [],
   "source": [
    "# tokenize the above string\n",
    "tokenized_review2 = tokenizer.tokenize(list_to_str2)"
   ]
  },
  {
   "cell_type": "code",
   "execution_count": 129,
   "metadata": {
    "ExecuteTime": {
     "end_time": "2020-04-14T20:20:04.665192Z",
     "start_time": "2020-04-14T20:20:04.296385Z"
    }
   },
   "outputs": [
    {
     "data": {
      "image/png": "[encoded data removed]",
      "text/plain": [
       "<Figure size 720x720 with 1 Axes>"
      ]
     },
     "metadata": {
      "needs_background": "light"
     },
     "output_type": "display_data"
    }
   ],
   "source": [
    "# plot the 30 most frequent noun only words in sampledf product long description\n",
    "fdist2 = FreqDist(tokenized_review2)\n",
    "plt.figure(figsize=(10,10))\n",
    "plt.title('Most Frequent Words in 1000 samples (Noun Only)')\n",
    "fdist2.plot(30)"
   ]
  },
  {
   "cell_type": "markdown",
   "metadata": {},
   "source": [
    "### Most Frequent Words"
   ]
  },
  {
   "cell_type": "code",
   "execution_count": 131,
   "metadata": {
    "ExecuteTime": {
     "end_time": "2020-04-14T20:56:53.054101Z",
     "start_time": "2020-04-14T20:56:53.013389Z"
    }
   },
   "outputs": [],
   "source": [
    "# Try to compare fiction vs nonfiction\n",
    "df_freq_ficiton = df[df['Product Primary Category']=='Fiction']\n",
    "df_freq_nonficiton = df[df['Product Primary Category']=='Nonfiction']"
   ]
  },
  {
   "cell_type": "code",
   "execution_count": 133,
   "metadata": {
    "ExecuteTime": {
     "end_time": "2020-04-14T20:57:57.356981Z",
     "start_time": "2020-04-14T20:57:57.353177Z"
    }
   },
   "outputs": [],
   "source": [
    "# get discriptions from fiction and nonfiction\n",
    "data_fiction = df_freq_ficiton['Product Long Description']\n",
    "data_nonfiction = df_freq_nonficiton['Product Long Description']"
   ]
  },
  {
   "cell_type": "code",
   "execution_count": 134,
   "metadata": {
    "ExecuteTime": {
     "end_time": "2020-04-14T20:59:08.592288Z",
     "start_time": "2020-04-14T20:58:25.979947Z"
    }
   },
   "outputs": [],
   "source": [
    "# apply noun only function to fiction and nonfiction description\n",
    "pros_fiction = list(map(noun_article, data_fiction))\n",
    "pros_nonfiction = list(map(noun_article, data_nonfiction))"
   ]
  },
  {
   "cell_type": "code",
   "execution_count": 135,
   "metadata": {
    "ExecuteTime": {
     "end_time": "2020-04-14T20:59:36.316007Z",
     "start_time": "2020-04-14T20:59:36.288036Z"
    },
    "code_folding": [
     2
    ]
   },
   "outputs": [
    {
     "name": "stdout",
     "output_type": "stream",
     "text": [
      "total vocabulary in fiction: 19643\n",
      "total vocabulary in nonfiction: 14906\n"
     ]
    }
   ],
   "source": [
    "# check the total count of words in fiction and nonfiction\n",
    "total_vocab_fiction = set()\n",
    "total_vocab_nonfiction = set()\n",
    "for comment in pros_fiction:\n",
    "    total_vocab_fiction.update(comment)\n",
    "for comment in pros_nonfiction:\n",
    "    total_vocab_nonfiction.update(comment)\n",
    "print('total vocabulary in fiction:',len(total_vocab_fiction))\n",
    "print('total vocabulary in nonfiction:',len(total_vocab_nonfiction))"
   ]
  },
  {
   "cell_type": "code",
   "execution_count": 139,
   "metadata": {
    "ExecuteTime": {
     "end_time": "2020-04-14T21:00:23.711953Z",
     "start_time": "2020-04-14T21:00:23.706957Z"
    }
   },
   "outputs": [
    {
     "name": "stdout",
     "output_type": "stream",
     "text": [
      "[['climate', 'change', 'water', 'crisis', 'china', 'prairie', 'provinces', 'river', 'water', 'hudson', 'bay', 'beijing', 'passage', 'year-round', 'story', 'insights', 'canada', 'water', 'resources', 'geography', 'history.environmentalists', 'north', 'canada', 'water', 'resources', 'jeremiah', 'coffey', 'us', 'presidentis', 'chinese', 'canada', 'columbia', 'united', 'states', 'drought', 'americans', 'water', 'california', 'british', 'columbia', 'rivers', 'us', 'state', 'department', 'cia', 'tactics', 'lee', 'girard', 'asset', 'field.the', 'green', 'party', 'power', 'months', 'sheila', 'thompson', 'prime', 'minister', 'canada', 'chinese', 'occupation', 'meddling', 'minister', 'national', 'defence', \"'rolly\", \"o'brien\", 'salty', 'newfoundlander', 'korean', 'chief', 'defence', 'staff', 'general', 'robert', 'fraser', 'husband', 'to-be', 'staff', 'stuart', 'mcgee', 'everything', 'plan', 'chinese', 'remembrance', 'day.the', 'british', 'prime', 'minister', 'post', 'brexit', 'woes', 'collapse', 'nato.canada', 'pm', 'commonwealth', 'commonwealth', 'nations', 'crimes', 'general', 'shang-lu', 'belt', 'road', 'want', 'part', 'man', 'place', 'trial', 'hague.the', 'shang-lu', 'plans', 'dollar', 'estate', 'fraud', 'situation', 'calgary', 'water.listeners', 'war', 'books', 'action', 'thrillers', 'spy', 'tradecraft', 'operations', 'battle', 'tanks', 'queen', 'mary', 'royal', 'navy', 'aircraft-carriers', 'submarines']]\n"
     ]
    }
   ],
   "source": [
    "# check sample words in fiction\n",
    "print(pros_fiction[:1])"
   ]
  },
  {
   "cell_type": "code",
   "execution_count": 140,
   "metadata": {
    "ExecuteTime": {
     "end_time": "2020-04-14T21:00:32.590199Z",
     "start_time": "2020-04-14T21:00:32.585929Z"
    }
   },
   "outputs": [
    {
     "name": "stdout",
     "output_type": "stream",
     "text": [
      "[['milestone', 'crime', 'hall-mills', 'case', 'new', 'brunswick', 'new', 'jersey', 'decade', 'killer', 'case', 'aficionados.a', 'bon', 'vivant', 'episcopal', 'minister', 'soprano', 'choir', 'wife', 'brother', 'maid', 'snooping', 'congregants', 'bumbling', 'detectives', 'denouement', 'trial', 'americas', 'jazz', 'age', 'likes', 'damon', 'runyon', 'dorothy', 'dix', 'james', 'thurber', 'testimony', 'witness', 'veracity', 'farmer', 'tabloids', 'pig', 'woman', 'almost', 'everyone', 'mystery', 'secret', 'one', 'years', 'audibles', 'request', 'business', 'crime', 'journalist', 'bryan', 'burrough', 'case', 'records', 'time', 'narration', 'texas', 'accent', 'immediacy', 'intimacy', 'new', 'jersey', 'crime', 'listeners', 'reconstruction', 'double-murderand', 'prosecution', 'media', 'circus', 'day']]\n"
     ]
    }
   ],
   "source": [
    "# check sample words in nonfiction\n",
    "print(pros_nonfiction[:1])"
   ]
  },
  {
   "cell_type": "code",
   "execution_count": 141,
   "metadata": {
    "ExecuteTime": {
     "end_time": "2020-04-14T21:04:04.271502Z",
     "start_time": "2020-04-14T21:04:04.245373Z"
    }
   },
   "outputs": [],
   "source": [
    "# preprocess the data before calculating frequency \n",
    "flat_fiction = [item for sublist in pros_fiction for item in sublist]\n",
    "flat_nonfiction = [item for sublist in pros_nonfiction for item in sublist]"
   ]
  },
  {
   "cell_type": "code",
   "execution_count": 143,
   "metadata": {
    "ExecuteTime": {
     "end_time": "2020-04-14T21:06:33.369763Z",
     "start_time": "2020-04-14T21:06:33.220705Z"
    }
   },
   "outputs": [],
   "source": [
    "# apply freqent funtions to above lists\n",
    "fiction_freq = FreqDist(flat_fiction)\n",
    "nonfiction_freq = FreqDist(flat_nonfiction)"
   ]
  },
  {
   "cell_type": "code",
   "execution_count": 144,
   "metadata": {
    "ExecuteTime": {
     "end_time": "2020-04-14T21:06:54.133862Z",
     "start_time": "2020-04-14T21:06:54.124065Z"
    }
   },
   "outputs": [
    {
     "data": {
      "text/plain": [
       "[('life', 1206),\n",
       " ('story', 763),\n",
       " ('family', 736),\n",
       " ('man', 637),\n",
       " ('world', 630),\n",
       " ('love', 514),\n",
       " ('time', 507),\n",
       " ('stories', 477),\n",
       " ('novel', 459),\n",
       " ('book', 432),\n",
       " ('author', 426),\n",
       " ('years', 398),\n",
       " ('woman', 368),\n",
       " ('war', 362),\n",
       " ('home', 357),\n",
       " ('way', 341),\n",
       " ('new', 318),\n",
       " ('father', 315),\n",
       " ('mother', 306),\n",
       " ('town', 286)]"
      ]
     },
     "execution_count": 144,
     "metadata": {},
     "output_type": "execute_result"
    }
   ],
   "source": [
    "# check top 20 fiction words\n",
    "fiction_freq.most_common(20)"
   ]
  },
  {
   "cell_type": "code",
   "execution_count": 145,
   "metadata": {
    "ExecuteTime": {
     "end_time": "2020-04-14T21:07:06.283929Z",
     "start_time": "2020-04-14T21:07:06.272257Z"
    }
   },
   "outputs": [
    {
     "data": {
      "text/plain": [
       "[('book', 601),\n",
       " ('world', 491),\n",
       " ('people', 417),\n",
       " ('history', 402),\n",
       " ('life', 386),\n",
       " ('story', 351),\n",
       " ('women', 311),\n",
       " ('years', 307),\n",
       " ('time', 285),\n",
       " ('america', 275),\n",
       " ('trump', 239),\n",
       " ('new', 237),\n",
       " ('audiobook', 232),\n",
       " ('author', 231),\n",
       " ('stories', 213),\n",
       " ('power', 203),\n",
       " ('way', 201),\n",
       " ('war', 172),\n",
       " ('states', 171),\n",
       " ('work', 169)]"
      ]
     },
     "execution_count": 145,
     "metadata": {},
     "output_type": "execute_result"
    }
   ],
   "source": [
    "# check top 20 nonfiction words\n",
    "nonfiction_freq.most_common(20)"
   ]
  },
  {
   "cell_type": "markdown",
   "metadata": {},
   "source": [
    "### Normalized word frequencies"
   ]
  },
  {
   "cell_type": "code",
   "execution_count": 147,
   "metadata": {
    "ExecuteTime": {
     "end_time": "2020-04-14T21:07:45.906399Z",
     "start_time": "2020-04-14T21:07:45.888480Z"
    }
   },
   "outputs": [
    {
     "name": "stdout",
     "output_type": "stream",
     "text": [
      "Word \t\t Normalized Frequency\n",
      "\n",
      "life \t\t 0.01243\n",
      "story \t\t 0.007867\n",
      "family \t\t 0.007588\n",
      "man \t\t 0.006568\n",
      "world \t\t 0.006495\n",
      "love \t\t 0.005299\n",
      "time \t\t 0.005227\n",
      "stories \t\t 0.004918\n",
      "novel \t\t 0.004732\n",
      "book \t\t 0.004454\n",
      "author \t\t 0.004392\n",
      "years \t\t 0.004103\n",
      "woman \t\t 0.003794\n",
      "war \t\t 0.003732\n",
      "home \t\t 0.003681\n",
      "way \t\t 0.003516\n",
      "new \t\t 0.003279\n",
      "father \t\t 0.003248\n",
      "mother \t\t 0.003155\n",
      "town \t\t 0.002949\n"
     ]
    }
   ],
   "source": [
    "# normalize top 20 fiction words to percentage\n",
    "fiction_total_word_count = sum(fiction_freq.values())\n",
    "fiction_top_20 = fiction_freq.most_common(20)\n",
    "print(\"Word \\t\\t Normalized Frequency\")\n",
    "print()\n",
    "for word in fiction_top_20:\n",
    "    normalized_frequency = word[1]/fiction_total_word_count\n",
    "    print(\"{} \\t\\t {:.4}\".format(word[0], normalized_frequency))"
   ]
  },
  {
   "cell_type": "code",
   "execution_count": 148,
   "metadata": {
    "ExecuteTime": {
     "end_time": "2020-04-14T21:07:52.336535Z",
     "start_time": "2020-04-14T21:07:52.325174Z"
    }
   },
   "outputs": [
    {
     "name": "stdout",
     "output_type": "stream",
     "text": [
      "Word \t\t Normalized Frequency\n",
      "\n",
      "book \t\t 0.008764\n",
      "world \t\t 0.00716\n",
      "people \t\t 0.006081\n",
      "history \t\t 0.005862\n",
      "life \t\t 0.005629\n",
      "story \t\t 0.005119\n",
      "women \t\t 0.004535\n",
      "years \t\t 0.004477\n",
      "time \t\t 0.004156\n",
      "america \t\t 0.00401\n",
      "trump \t\t 0.003485\n",
      "new \t\t 0.003456\n",
      "audiobook \t\t 0.003383\n",
      "author \t\t 0.003369\n",
      "stories \t\t 0.003106\n",
      "power \t\t 0.00296\n",
      "way \t\t 0.002931\n",
      "war \t\t 0.002508\n",
      "states \t\t 0.002494\n",
      "work \t\t 0.002465\n"
     ]
    }
   ],
   "source": [
    "# normalize top 20 nonfiction words to percentage\n",
    "nonfiction_total_word_count = sum(nonfiction_freq.values())\n",
    "nonfiction_top_20 = nonfiction_freq.most_common(20)\n",
    "print(\"Word \\t\\t Normalized Frequency\")\n",
    "print()\n",
    "for word in nonfiction_top_20:\n",
    "    normalized_frequency = word[1]/nonfiction_total_word_count\n",
    "    print(\"{} \\t\\t {:.4}\".format(word[0], normalized_frequency))"
   ]
  },
  {
   "cell_type": "markdown",
   "metadata": {},
   "source": [
    "### visualization"
   ]
  },
  {
   "cell_type": "code",
   "execution_count": 150,
   "metadata": {
    "ExecuteTime": {
     "end_time": "2020-04-14T21:08:41.537451Z",
     "start_time": "2020-04-14T21:08:41.519318Z"
    },
    "code_folding": []
   },
   "outputs": [],
   "source": [
    "# create counts of fiction and nonfiction with values and words\n",
    "fiction_bar_counts = [x[1] for x in fiction_freq.most_common(20)]\n",
    "fiction_bar_words = [x[0] for x in fiction_freq.most_common(20)]\n",
    "nonfiction_bar_counts = [x[1] for x in nonfiction_freq.most_common(20)]\n",
    "nonfiction_bar_words = [x[0] for x in nonfiction_freq.most_common(20)]"
   ]
  },
  {
   "cell_type": "code",
   "execution_count": 151,
   "metadata": {
    "ExecuteTime": {
     "end_time": "2020-04-14T21:08:42.256385Z",
     "start_time": "2020-04-14T21:08:42.245392Z"
    }
   },
   "outputs": [],
   "source": [
    "# set the color of our bar graphs\n",
    "color = cm.viridis_r(np.linspace(.4,.8, 30))"
   ]
  },
  {
   "cell_type": "code",
   "execution_count": 153,
   "metadata": {
    "ExecuteTime": {
     "end_time": "2020-04-14T21:09:52.909240Z",
     "start_time": "2020-04-14T21:09:52.215971Z"
    },
    "scrolled": true
   },
   "outputs": [
    {
     "data": {
      "image/png": "[encoded data removed]",
      "text/plain": [
       "<Figure size 1152x288 with 2 Axes>"
      ]
     },
     "metadata": {
      "needs_background": "light"
     },
     "output_type": "display_data"
    }
   ],
   "source": [
    "# visualize the result in descending\n",
    "new_figure = plt.figure(figsize=(16,4))\n",
    "\n",
    "ax = new_figure.add_subplot(121)\n",
    "ax2 = new_figure.add_subplot(122)\n",
    "\n",
    "ax.bar(fiction_bar_words, fiction_bar_counts, color=color)\n",
    "\n",
    "ax2.bar(nonfiction_bar_words, nonfiction_bar_counts, color=color )\n",
    "\n",
    "ax.title.set_text('Fiction')\n",
    "ax2.title.set_text('Nonfiction')\n",
    "\n",
    "for ax in new_figure.axes:\n",
    "    plt.sca(ax)\n",
    "    plt.xticks(rotation=60)\n",
    "\n",
    "plt.tight_layout(pad=0)\n",
    "\n",
    "plt.show()"
   ]
  },
  {
   "cell_type": "markdown",
   "metadata": {},
   "source": [
    "### Word Clouds"
   ]
  },
  {
   "cell_type": "code",
   "execution_count": 155,
   "metadata": {
    "ExecuteTime": {
     "end_time": "2020-04-14T21:10:24.757897Z",
     "start_time": "2020-04-14T21:10:24.751679Z"
    }
   },
   "outputs": [],
   "source": [
    "# set fiction and nonfiction words to dictionary\n",
    "fiction_dictionary = dict(zip(fiction_bar_words, fiction_bar_counts))\n",
    "nonfiction_dictionary = dict(zip(nonfiction_bar_words, nonfiction_bar_counts))"
   ]
  },
  {
   "cell_type": "code",
   "execution_count": 156,
   "metadata": {
    "ExecuteTime": {
     "end_time": "2020-04-14T21:10:59.585073Z",
     "start_time": "2020-04-14T21:10:59.268745Z"
    }
   },
   "outputs": [
    {
     "data": {
      "image/png": "[encoded data removed]",
      "text/plain": [
       "<Figure size 720x720 with 1 Axes>"
      ]
     },
     "metadata": {},
     "output_type": "display_data"
    }
   ],
   "source": [
    "# create the fiction word cloud:\n",
    "\n",
    "wordcloud = WordCloud(colormap='Spectral').generate_from_frequencies(fiction_dictionary)\n",
    "\n",
    "plt.figure(figsize=(10,10), facecolor='k')\n",
    "plt.imshow(wordcloud, interpolation='bilinear')\n",
    "plt.axis(\"off\")\n",
    "plt.tight_layout(pad=0)\n",
    "\n",
    "plt.show()"
   ]
  },
  {
   "cell_type": "code",
   "execution_count": 158,
   "metadata": {
    "ExecuteTime": {
     "end_time": "2020-04-14T21:11:10.487702Z",
     "start_time": "2020-04-14T21:11:10.195598Z"
    }
   },
   "outputs": [
    {
     "data": {
      "image/png": "[encoded data removed]",
      "text/plain": [
       "<Figure size 720x720 with 1 Axes>"
      ]
     },
     "metadata": {},
     "output_type": "display_data"
    }
   ],
   "source": [
    "# Create the nonfiction word cloud:\n",
    "\n",
    "wordcloud = WordCloud(colormap='Spectral').generate_from_frequencies(nonfiction_dictionary)\n",
    "\n",
    "plt.figure(figsize=(10,10), facecolor='k')\n",
    "plt.imshow(wordcloud, interpolation='bilinear')\n",
    "plt.axis(\"off\")\n",
    "plt.tight_layout(pad=0)\n",
    "\n",
    "plt.show()"
   ]
  },
  {
   "cell_type": "markdown",
   "metadata": {},
   "source": [
    "##  Recommendation System"
   ]
  },
  {
   "cell_type": "markdown",
   "metadata": {},
   "source": [
    "### Gensim Corpus Model"
   ]
  },
  {
   "cell_type": "code",
   "execution_count": null,
   "metadata": {
    "ExecuteTime": {
     "end_time": "2020-04-13T21:56:03.476802Z",
     "start_time": "2020-04-13T21:56:03.471319Z"
    }
   },
   "outputs": [],
   "source": [
    "final_noun_list_lemmatizd[:1]"
   ]
  },
  {
   "cell_type": "code",
   "execution_count": null,
   "metadata": {},
   "outputs": [],
   "source": [
    "new_final_noun_list_lemmatizd = [''.join(w) for w in final_noun_list_lemmatizd]"
   ]
  },
  {
   "cell_type": "code",
   "execution_count": null,
   "metadata": {},
   "outputs": [],
   "source": [
    "final_noun_list_lemmatizd[:1]"
   ]
  },
  {
   "cell_type": "code",
   "execution_count": null,
   "metadata": {},
   "outputs": [],
   "source": [
    "def preprocess_body(text):\n",
    "    simple_text = simple_preprocess(text)\n",
    "    text_out = [ word for word in simple_text ]\n",
    "    return text_out"
   ]
  },
  {
   "cell_type": "code",
   "execution_count": null,
   "metadata": {},
   "outputs": [],
   "source": [
    "list_of_word_token = list(map(preprocess_body, final_noun_list_lemmatizd))"
   ]
  },
  {
   "cell_type": "code",
   "execution_count": null,
   "metadata": {},
   "outputs": [],
   "source": [
    "id2word = corpora.Dictionary(list_of_word_token)\n",
    "id2word.filter_extremes(no_below=30,no_above=0.5,keep_n=10000)\n",
    "texts = list_of_word_token\n",
    "corpus = [id2word.doc2bow(text) for text in texts]"
   ]
  },
  {
   "cell_type": "code",
   "execution_count": null,
   "metadata": {},
   "outputs": [],
   "source": [
    "print('word count in id2word:',len(id2word))\n",
    "print('word coint in texts:',len(texts))"
   ]
  },
  {
   "cell_type": "code",
   "execution_count": null,
   "metadata": {},
   "outputs": [],
   "source": [
    "corpusdf=pd.DataFrame(gensim.matutils.corpus2dense(corpus,num_terms=5273,num_docs=34330)).T"
   ]
  },
  {
   "cell_type": "code",
   "execution_count": null,
   "metadata": {},
   "outputs": [],
   "source": [
    "corpusdf.columns=id2word.token2id"
   ]
  },
  {
   "cell_type": "code",
   "execution_count": null,
   "metadata": {},
   "outputs": [],
   "source": [
    "corpusdf['book_title']=df['Product Title']"
   ]
  },
  {
   "cell_type": "code",
   "execution_count": null,
   "metadata": {},
   "outputs": [],
   "source": [
    "file = open('corpusdf.p', 'wb')\n",
    "pickle.dump(corpusdf,file)\n",
    "file.close()"
   ]
  },
  {
   "cell_type": "code",
   "execution_count": null,
   "metadata": {
    "ExecuteTime": {
     "end_time": "2020-04-13T21:56:11.995897Z",
     "start_time": "2020-04-13T21:56:06.770117Z"
    }
   },
   "outputs": [],
   "source": [
    "file = open('corpusdf.p', 'rb')\n",
    "corpusdf = pickle.load(file)\n",
    "file.close()\n",
    "corpusdf.head()"
   ]
  },
  {
   "cell_type": "markdown",
   "metadata": {},
   "source": [
    "### Cosine Similarity"
   ]
  },
  {
   "cell_type": "code",
   "execution_count": null,
   "metadata": {
    "ExecuteTime": {
     "end_time": "2020-04-13T22:03:10.673618Z",
     "start_time": "2020-04-13T21:56:28.953516Z"
    }
   },
   "outputs": [],
   "source": [
    "cosine_sim = 1-pairwise_distances(corpusdf.drop(columns='book_title'), metric='cosine',n_jobs=-1)"
   ]
  },
  {
   "cell_type": "code",
   "execution_count": null,
   "metadata": {
    "ExecuteTime": {
     "end_time": "2020-04-13T22:03:28.525978Z",
     "start_time": "2020-04-13T22:03:27.876370Z"
    }
   },
   "outputs": [],
   "source": [
    "cosine_sim_df = pd.DataFrame(cosine_sim)\n",
    "cosine_sim_df.head()"
   ]
  },
  {
   "cell_type": "code",
   "execution_count": null,
   "metadata": {
    "ExecuteTime": {
     "end_time": "2020-04-13T22:03:30.814359Z",
     "start_time": "2020-04-13T22:03:30.754464Z"
    }
   },
   "outputs": [],
   "source": [
    "cosine_sim_df['book_title'] = corpusdf['book_title']"
   ]
  },
  {
   "cell_type": "code",
   "execution_count": null,
   "metadata": {
    "ExecuteTime": {
     "end_time": "2020-04-13T22:03:41.363028Z",
     "start_time": "2020-04-13T22:03:41.315888Z"
    }
   },
   "outputs": [],
   "source": [
    "cosine_sim_df.set_index('book_title', inplace = True)"
   ]
  },
  {
   "cell_type": "code",
   "execution_count": null,
   "metadata": {
    "ExecuteTime": {
     "end_time": "2020-04-13T22:03:42.454111Z",
     "start_time": "2020-04-13T22:03:42.438618Z"
    }
   },
   "outputs": [],
   "source": [
    "cosine_sim_df.columns = corpusdf['book_title']"
   ]
  },
  {
   "cell_type": "code",
   "execution_count": null,
   "metadata": {
    "ExecuteTime": {
     "end_time": "2020-04-13T22:03:43.933819Z",
     "start_time": "2020-04-13T22:03:43.343272Z"
    }
   },
   "outputs": [],
   "source": [
    "cosine_sim_df.head()"
   ]
  },
  {
   "cell_type": "code",
   "execution_count": null,
   "metadata": {
    "ExecuteTime": {
     "end_time": "2020-04-13T22:07:47.532471Z",
     "start_time": "2020-04-13T22:07:27.566196Z"
    }
   },
   "outputs": [],
   "source": [
    "sample_for_test = cosine_sim_df.sample(n=1000, replace=False, random_state=123)"
   ]
  },
  {
   "cell_type": "code",
   "execution_count": null,
   "metadata": {
    "ExecuteTime": {
     "end_time": "2020-04-13T23:19:16.527403Z",
     "start_time": "2020-04-13T23:19:15.974868Z"
    }
   },
   "outputs": [],
   "source": [
    "sample_for_test.head()"
   ]
  },
  {
   "cell_type": "code",
   "execution_count": null,
   "metadata": {
    "ExecuteTime": {
     "end_time": "2020-04-13T23:06:28.892833Z",
     "start_time": "2020-04-13T23:06:27.819310Z"
    }
   },
   "outputs": [],
   "source": [
    "file = open('sample_for_test.p', 'wb')\n",
    "pickle.dump(sample_for_test,file)\n",
    "file.close()"
   ]
  },
  {
   "cell_type": "code",
   "execution_count": null,
   "metadata": {
    "ExecuteTime": {
     "end_time": "2020-04-13T23:06:31.470383Z",
     "start_time": "2020-04-13T23:06:30.468611Z"
    }
   },
   "outputs": [],
   "source": [
    "file = open('sample_for_test.p', 'rb')\n",
    "sample_for_test = pickle.load(file)\n",
    "file.close()\n",
    "sample_for_test.head()"
   ]
  },
  {
   "cell_type": "code",
   "execution_count": null,
   "metadata": {
    "ExecuteTime": {
     "end_time": "2020-04-13T22:03:47.714185Z",
     "start_time": "2020-04-13T22:03:47.702604Z"
    }
   },
   "outputs": [],
   "source": [
    "cosine_sim_df.index.is_unique"
   ]
  },
  {
   "cell_type": "code",
   "execution_count": null,
   "metadata": {},
   "outputs": [],
   "source": [
    "cosine_sim_df.iloc[9].sort_values(ascending=False).head()"
   ]
  },
  {
   "cell_type": "code",
   "execution_count": null,
   "metadata": {
    "ExecuteTime": {
     "end_time": "2020-04-13T22:21:28.040951Z",
     "start_time": "2020-04-13T22:21:24.859167Z"
    }
   },
   "outputs": [],
   "source": [
    "user_book = str(input(\"Give a book name?\"))"
   ]
  },
  {
   "cell_type": "code",
   "execution_count": null,
   "metadata": {
    "ExecuteTime": {
     "end_time": "2020-04-14T00:23:19.733146Z",
     "start_time": "2020-04-14T00:23:19.320737Z"
    }
   },
   "outputs": [],
   "source": [
    "sample_for_test"
   ]
  },
  {
   "cell_type": "code",
   "execution_count": null,
   "metadata": {
    "ExecuteTime": {
     "end_time": "2020-04-14T00:22:55.481047Z",
     "start_time": "2020-04-14T00:22:55.477155Z"
    },
    "code_folding": []
   },
   "outputs": [],
   "source": [
    "def get_rec(x):\n",
    "    for i in sample_for_test.index:\n",
    "        if x == i:\n",
    "            return sample_for_test[x].sort_values(ascending= False)[1:6]"
   ]
  },
  {
   "cell_type": "code",
   "execution_count": null,
   "metadata": {
    "ExecuteTime": {
     "end_time": "2020-04-14T00:23:35.474751Z",
     "start_time": "2020-04-14T00:23:35.467327Z"
    }
   },
   "outputs": [],
   "source": [
    "a=get_rec('Opal: A Raven Cycle Story ')\n",
    "type(a)"
   ]
  },
  {
   "cell_type": "code",
   "execution_count": null,
   "metadata": {
    "ExecuteTime": {
     "end_time": "2020-04-14T00:26:38.823478Z",
     "start_time": "2020-04-14T00:26:38.818404Z"
    },
    "scrolled": true
   },
   "outputs": [],
   "source": [
    "b='; '.join(list(a.index))\n",
    "type(b)"
   ]
  },
  {
   "cell_type": "code",
   "execution_count": null,
   "metadata": {
    "ExecuteTime": {
     "end_time": "2020-04-14T00:44:36.919424Z",
     "start_time": "2020-04-14T00:44:36.915203Z"
    }
   },
   "outputs": [],
   "source": [
    "c=list(a.index)\n",
    "print('\\n'.join(c))"
   ]
  },
  {
   "cell_type": "code",
   "execution_count": null,
   "metadata": {},
   "outputs": [],
   "source": [
    "def get_rec(x):\n",
    "    for i in sample_for_test.index:\n",
    "        if x == i:\n",
    "            return sample_for_test[x].sort_values(ascending= False)[1:6]"
   ]
  },
  {
   "cell_type": "code",
   "execution_count": null,
   "metadata": {
    "ExecuteTime": {
     "end_time": "2020-04-14T00:12:18.612578Z",
     "start_time": "2020-04-14T00:12:18.608406Z"
    },
    "code_folding": []
   },
   "outputs": [],
   "source": [
    "def get_rec(text):\n",
    "#     file = open('sample_for_test.p', 'rb')\n",
    "#     sample_for_test = pickle.load(file)\n",
    "#     file.close()\n",
    "    for i in sample_for_test.index:\n",
    "        if text == i:\n",
    "            prediction = sample_for_test[text].sort_values(ascending= False)[1:6]\n",
    "# '; '.join(list(sample_for_test[i].sort_values(ascending= False)[1:6].index))\n",
    "            return prediction\n",
    "#         else:\n",
    "#             return None"
   ]
  },
  {
   "cell_type": "code",
   "execution_count": null,
   "metadata": {
    "ExecuteTime": {
     "end_time": "2020-04-14T00:12:19.270262Z",
     "start_time": "2020-04-14T00:12:19.260314Z"
    }
   },
   "outputs": [],
   "source": [
    "get_rec('The Blame Game ')"
   ]
  },
  {
   "cell_type": "code",
   "execution_count": null,
   "metadata": {},
   "outputs": [],
   "source": []
  },
  {
   "cell_type": "code",
   "execution_count": null,
   "metadata": {
    "ExecuteTime": {
     "end_time": "2020-04-13T22:46:52.773406Z",
     "start_time": "2020-04-13T22:46:52.763389Z"
    }
   },
   "outputs": [],
   "source": [
    "print('Top 5 book recommendation for you:')\n",
    "print(get_rec('The Blame Game '))"
   ]
  },
  {
   "cell_type": "markdown",
   "metadata": {},
   "source": [
    "### Euclidean Similarity"
   ]
  },
  {
   "cell_type": "code",
   "execution_count": null,
   "metadata": {},
   "outputs": [],
   "source": [
    "euclidean_sim = 1-pairwise_distances(corpusdf.drop(columns='book_title'), metric='euclidean',n_jobs=-1)"
   ]
  },
  {
   "cell_type": "code",
   "execution_count": null,
   "metadata": {},
   "outputs": [],
   "source": [
    "euclidean_sim_df = pd.DataFrame(euclidean_sim)\n",
    "euclidean_sim_df.head()"
   ]
  },
  {
   "cell_type": "code",
   "execution_count": null,
   "metadata": {},
   "outputs": [],
   "source": [
    "euclidean_sim_df['book_title'] = corpusdf['book_title']"
   ]
  },
  {
   "cell_type": "code",
   "execution_count": null,
   "metadata": {},
   "outputs": [],
   "source": [
    "euclidean_sim_df.set_index('book_title', inplace = True)"
   ]
  },
  {
   "cell_type": "code",
   "execution_count": null,
   "metadata": {},
   "outputs": [],
   "source": [
    "euclidean_sim_df.columns = corpusdf['book_title']"
   ]
  },
  {
   "cell_type": "code",
   "execution_count": null,
   "metadata": {},
   "outputs": [],
   "source": [
    "euclidean_sim_df.head()"
   ]
  },
  {
   "cell_type": "code",
   "execution_count": null,
   "metadata": {},
   "outputs": [],
   "source": [
    "euclidean_sim_df.index.is_unique"
   ]
  },
  {
   "cell_type": "code",
   "execution_count": null,
   "metadata": {},
   "outputs": [],
   "source": [
    "euclidean_sim_df.iloc[9].sort_values(ascending=False).head()"
   ]
  },
  {
   "cell_type": "code",
   "execution_count": null,
   "metadata": {},
   "outputs": [],
   "source": [
    "user_book = str(input(\"Give a book name?\"))"
   ]
  },
  {
   "cell_type": "code",
   "execution_count": null,
   "metadata": {},
   "outputs": [],
   "source": [
    "def get_rec2(userChoice,euclidean_sim_df):\n",
    "    for i in euclidean_sim_df.index:\n",
    "        if user_book == i:\n",
    "            return euclidean_sim_df[user_book].sort_values(ascending= False)[1:6]"
   ]
  },
  {
   "cell_type": "code",
   "execution_count": null,
   "metadata": {},
   "outputs": [],
   "source": [
    "print('Top 5 book recommendation for you:')\n",
    "print(get_rec2(user_book,euclidean_sim_df))"
   ]
  },
  {
   "cell_type": "markdown",
   "metadata": {},
   "source": [
    "### Spacy "
   ]
  },
  {
   "cell_type": "code",
   "execution_count": null,
   "metadata": {},
   "outputs": [],
   "source": [
    "tqdm.pandas()"
   ]
  },
  {
   "cell_type": "code",
   "execution_count": null,
   "metadata": {},
   "outputs": [],
   "source": [
    "nlp = spacy.load('en_core_web_md')\n",
    "nlp"
   ]
  },
  {
   "cell_type": "code",
   "execution_count": null,
   "metadata": {},
   "outputs": [],
   "source": [
    "aa=pd.DataFrame(final_noun_list_lemmatizd)\n",
    "aa[0][:10]"
   ]
  },
  {
   "cell_type": "code",
   "execution_count": null,
   "metadata": {
    "scrolled": true
   },
   "outputs": [],
   "source": [
    "df['spacy'] = aa[0].progress_apply(lambda x: nlp(x))"
   ]
  },
  {
   "cell_type": "code",
   "execution_count": null,
   "metadata": {},
   "outputs": [],
   "source": [
    "spacydf=df['spacy']"
   ]
  },
  {
   "cell_type": "code",
   "execution_count": null,
   "metadata": {},
   "outputs": [],
   "source": [
    "spacydf=pd.DataFrame(spacydf)"
   ]
  },
  {
   "cell_type": "code",
   "execution_count": null,
   "metadata": {},
   "outputs": [],
   "source": [
    "spacydf['book_title'] = corpusdf['book_title']"
   ]
  },
  {
   "cell_type": "code",
   "execution_count": null,
   "metadata": {},
   "outputs": [],
   "source": [
    "spacydf.set_index('book_title',inplace=True)"
   ]
  },
  {
   "cell_type": "code",
   "execution_count": null,
   "metadata": {},
   "outputs": [],
   "source": [
    "spacydf.head()"
   ]
  },
  {
   "cell_type": "code",
   "execution_count": null,
   "metadata": {},
   "outputs": [],
   "source": [
    "file = open('spacydf.p', 'wb')\n",
    "pickle.dump(spacydf,file)\n",
    "file.close()"
   ]
  },
  {
   "cell_type": "code",
   "execution_count": null,
   "metadata": {},
   "outputs": [],
   "source": [
    "file = open('spacydf.p', 'rb')\n",
    "spacydf = pickle.load(file)\n",
    "file.close()\n",
    "spacydf.head()"
   ]
  },
  {
   "cell_type": "code",
   "execution_count": null,
   "metadata": {},
   "outputs": [],
   "source": [
    "doc = spacydf.spacy[0]\n",
    "doc"
   ]
  },
  {
   "cell_type": "code",
   "execution_count": null,
   "metadata": {},
   "outputs": [],
   "source": [
    "doc.vector[:10]"
   ]
  },
  {
   "cell_type": "code",
   "execution_count": null,
   "metadata": {},
   "outputs": [],
   "source": [
    "[sents for sents in doc.sents]"
   ]
  },
  {
   "cell_type": "code",
   "execution_count": null,
   "metadata": {},
   "outputs": [],
   "source": [
    "doc_2 = spacydf.spacy[1]\n",
    "doc_2"
   ]
  },
  {
   "cell_type": "code",
   "execution_count": null,
   "metadata": {},
   "outputs": [],
   "source": [
    "doc.similarity(doc_2)"
   ]
  },
  {
   "cell_type": "code",
   "execution_count": null,
   "metadata": {},
   "outputs": [],
   "source": [
    "similarity=[]\n",
    "for docs in spacydf.spacy:\n",
    "    similarity.append(doc.similarity(docs))\n",
    "similarity[:10]"
   ]
  },
  {
   "cell_type": "code",
   "execution_count": null,
   "metadata": {},
   "outputs": [],
   "source": [
    "similaritydf=pd.DataFrame(similarity)"
   ]
  },
  {
   "cell_type": "code",
   "execution_count": null,
   "metadata": {},
   "outputs": [],
   "source": [
    "similaritydf['book_title'] = corpusdf['book_title']"
   ]
  },
  {
   "cell_type": "code",
   "execution_count": null,
   "metadata": {},
   "outputs": [],
   "source": [
    "similaritydf.set_index('book_title',inplace=True)"
   ]
  },
  {
   "cell_type": "code",
   "execution_count": null,
   "metadata": {},
   "outputs": [],
   "source": [
    "similaritydf.rename(columns={0: \"similarity_score\"},inplace=True)"
   ]
  },
  {
   "cell_type": "code",
   "execution_count": null,
   "metadata": {},
   "outputs": [],
   "source": [
    "similaritydf.sort_values(\"similarity_score\",ascending=False).head(6)"
   ]
  },
  {
   "cell_type": "code",
   "execution_count": null,
   "metadata": {},
   "outputs": [],
   "source": [
    "user_book = str(input(\"Give a book name?\"))"
   ]
  },
  {
   "cell_type": "code",
   "execution_count": null,
   "metadata": {
    "code_folding": []
   },
   "outputs": [],
   "source": [
    "def choose_book(book):\n",
    "    for i in spacydf.index:\n",
    "        if user_book == i:\n",
    "            return spacydf.spacy[i]"
   ]
  },
  {
   "cell_type": "code",
   "execution_count": null,
   "metadata": {},
   "outputs": [],
   "source": [
    "choose_book(user_book)"
   ]
  },
  {
   "cell_type": "code",
   "execution_count": null,
   "metadata": {},
   "outputs": [],
   "source": [
    "def get_rec_3(userChoice):\n",
    "    doc = choose_book(user_book)\n",
    "    for docs in spacydf.spacy:\n",
    "        similarity.append(doc.similarity(docs))\n",
    "    return cosine_sim_df[user_book].sort_values(ascending= False)[1:6]"
   ]
  },
  {
   "cell_type": "code",
   "execution_count": null,
   "metadata": {},
   "outputs": [],
   "source": [
    "get_rec_3(user_book)"
   ]
  }
 ],
 "metadata": {
  "kernelspec": {
   "display_name": "Python 3",
   "language": "python",
   "name": "python3"
  },
  "language_info": {
   "codemirror_mode": {
    "name": "ipython",
    "version": 3
   },
   "file_extension": ".py",
   "mimetype": "text/x-python",
   "name": "python",
   "nbconvert_exporter": "python",
   "pygments_lexer": "ipython3",
   "version": "3.7.4"
  },
  "toc": {
   "base_numbering": 1,
   "nav_menu": {},
   "number_sections": true,
   "sideBar": true,
   "skip_h1_title": false,
   "title_cell": "Table of Contents",
   "title_sidebar": "Contents",
   "toc_cell": false,
   "toc_position": {},
   "toc_section_display": true,
   "toc_window_display": false
  },
  "varInspector": {
   "cols": {
    "lenName": 16,
    "lenType": 16,
    "lenVar": 40
   },
   "kernels_config": {
    "python": {
     "delete_cmd_postfix": "",
     "delete_cmd_prefix": "del ",
     "library": "var_list.py",
     "varRefreshCmd": "print(var_dic_list())"
    },
    "r": {
     "delete_cmd_postfix": ") ",
     "delete_cmd_prefix": "rm(",
     "library": "var_list.r",
     "varRefreshCmd": "cat(var_dic_list()) "
    }
   },
   "types_to_exclude": [
    "module",
    "function",
    "builtin_function_or_method",
    "instance",
    "_Feature"
   ],
   "window_display": false
  }
 },
 "nbformat": 4,
 "nbformat_minor": 4
}
